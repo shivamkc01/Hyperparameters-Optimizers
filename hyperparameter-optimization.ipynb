{
 "cells": [
  {
   "cell_type": "markdown",
   "id": "8fa430f0",
   "metadata": {
    "papermill": {
     "duration": 0.017033,
     "end_time": "2021-09-01T09:45:13.810821",
     "exception": false,
     "start_time": "2021-09-01T09:45:13.793788",
     "status": "completed"
    },
    "tags": []
   },
   "source": [
    "> I show you how you can use different hyperparameter optimization techniques and libraries to tune hyperparameters of almost any kind of model or just to optimize any function! \n",
    "\n",
    "Contents:-\n",
    "1. GridSearchCV - score(0.8805)\n",
    "2. RandomizedSearchCV - score(0.8825) \n",
    "3.  Grid/Random Search with Pipelines. - score(0.45990\n",
    "4. Bayesian optimization using Gaussian Processes. - score(0.9050)\n",
    "5. Hyperopt - score(0.9075)\n",
    "6. Optuna - score(0.9085) ---Best"
   ]
  },
  {
   "cell_type": "code",
   "execution_count": 1,
   "id": "9f99f3e0",
   "metadata": {
    "execution": {
     "iopub.execute_input": "2021-09-01T09:45:13.858711Z",
     "iopub.status.busy": "2021-09-01T09:45:13.854801Z",
     "iopub.status.idle": "2021-09-01T09:45:15.213675Z",
     "shell.execute_reply": "2021-09-01T09:45:15.214174Z",
     "shell.execute_reply.started": "2021-09-01T09:33:58.944087Z"
    },
    "papermill": {
     "duration": 1.385925,
     "end_time": "2021-09-01T09:45:15.214579",
     "exception": false,
     "start_time": "2021-09-01T09:45:13.828654",
     "status": "completed"
    },
    "tags": []
   },
   "outputs": [],
   "source": [
    "import pandas as pd\n",
    "import numpy as np\n",
    "from sklearn import ensemble \n",
    "from sklearn import metrics\n",
    "from sklearn import model_selection\n"
   ]
  },
  {
   "cell_type": "code",
   "execution_count": 2,
   "id": "e67643a4",
   "metadata": {
    "execution": {
     "iopub.execute_input": "2021-09-01T09:45:15.253249Z",
     "iopub.status.busy": "2021-09-01T09:45:15.252284Z",
     "iopub.status.idle": "2021-09-01T09:45:15.291888Z",
     "shell.execute_reply": "2021-09-01T09:45:15.292356Z",
     "shell.execute_reply.started": "2021-09-01T08:58:52.016377Z"
    },
    "papermill": {
     "duration": 0.061703,
     "end_time": "2021-09-01T09:45:15.292579",
     "exception": false,
     "start_time": "2021-09-01T09:45:15.230876",
     "status": "completed"
    },
    "tags": []
   },
   "outputs": [
    {
     "data": {
      "text/plain": [
       "((2000, 20), (2000,))"
      ]
     },
     "execution_count": 2,
     "metadata": {},
     "output_type": "execute_result"
    }
   ],
   "source": [
    "df = pd.read_csv(\"../input/mobile-price-classification/train.csv\")\n",
    "# features are all columns without price_range\n",
    "# note that there is no id column in this dataset\n",
    "# here we have training features\n",
    "X = df.drop(\"price_range\", axis=1).values\n",
    "# and the targets\n",
    "y = df.price_range.values\n",
    "X.shape, y.shape"
   ]
  },
  {
   "cell_type": "code",
   "execution_count": 3,
   "id": "d46d2194",
   "metadata": {
    "execution": {
     "iopub.execute_input": "2021-09-01T09:45:15.332423Z",
     "iopub.status.busy": "2021-09-01T09:45:15.331440Z",
     "iopub.status.idle": "2021-09-01T09:45:15.336404Z",
     "shell.execute_reply": "2021-09-01T09:45:15.335909Z",
     "shell.execute_reply.started": "2021-09-01T06:25:11.893506Z"
    },
    "papermill": {
     "duration": 0.027696,
     "end_time": "2021-09-01T09:45:15.336568",
     "exception": false,
     "start_time": "2021-09-01T09:45:15.308872",
     "status": "completed"
    },
    "tags": []
   },
   "outputs": [
    {
     "data": {
      "text/plain": [
       "\"\\nRandomForestClassifier( \\n    n_estimators=100, \\n    criterion='gini', \\n    max_depth=None, \\n    min_samples_split=2,\\n    min_samples_leaf=1, \\n    min_weight_fraction_leaf=0.0,\\n    max_features='auto',\\n    max_leaf_nodes=None,\\n    min_impurity_decrease=0.0, \\n    min_impurity_split=None, \\n    bootstrap=True,\\n    oob_score=False,\\n    n_jobs=None,\\n    random_state=None,\\n    verbose=0,\\n    warm_start=False, \\n    class_weight=None,\\n    ccp_alpha=0.0, \\n    max_samples=None,\\n)\\n\\nThere are nineteen parameters,\\nand all the combinations of all \\nthese parameters for all the values\\nthey can assume are going to be infinite. \\nNormally, we don’t have the resource and\\ntime to do this. Thus, we specify a\\ngrid of parameters. A search over this\\ngrid to find the best combination of parameters \\nis known as grid search. \\nWe can say that n_estimators can be\\n100, 200, 250, 300, 400, 500; \\nmax_depth can be 1, 2, 5, 7, 11, 15 and \\ncriterion can be gini or entropy. \\nThese may not look like a lot of parameters, \\nbut it would take a lot of time for computation\\nif the dataset is too large.\\n\""
      ]
     },
     "execution_count": 3,
     "metadata": {},
     "output_type": "execute_result"
    }
   ],
   "source": [
    "\"\"\"\n",
    "RandomForestClassifier( \n",
    "    n_estimators=100, \n",
    "    criterion='gini', \n",
    "    max_depth=None, \n",
    "    min_samples_split=2,\n",
    "    min_samples_leaf=1, \n",
    "    min_weight_fraction_leaf=0.0,\n",
    "    max_features='auto',\n",
    "    max_leaf_nodes=None,\n",
    "    min_impurity_decrease=0.0, \n",
    "    min_impurity_split=None, \n",
    "    bootstrap=True,\n",
    "    oob_score=False,\n",
    "    n_jobs=None,\n",
    "    random_state=None,\n",
    "    verbose=0,\n",
    "    warm_start=False, \n",
    "    class_weight=None,\n",
    "    ccp_alpha=0.0, \n",
    "    max_samples=None,\n",
    ")\n",
    "\n",
    "There are nineteen parameters,\n",
    "and all the combinations of all \n",
    "these parameters for all the values\n",
    "they can assume are going to be infinite. \n",
    "Normally, we don’t have the resource and\n",
    "time to do this. Thus, we specify a\n",
    "grid of parameters. A search over this\n",
    "grid to find the best combination of parameters \n",
    "is known as grid search. \n",
    "We can say that n_estimators can be\n",
    "100, 200, 250, 300, 400, 500; \n",
    "max_depth can be 1, 2, 5, 7, 11, 15 and \n",
    "criterion can be gini or entropy. \n",
    "These may not look like a lot of parameters, \n",
    "but it would take a lot of time for computation\n",
    "if the dataset is too large.\n",
    "\"\"\""
   ]
  },
  {
   "cell_type": "markdown",
   "id": "da72f3a7",
   "metadata": {
    "papermill": {
     "duration": 0.016251,
     "end_time": "2021-09-01T09:45:15.369013",
     "exception": false,
     "start_time": "2021-09-01T09:45:15.352762",
     "status": "completed"
    },
    "tags": []
   },
   "source": [
    "# 1. Grid_search. </br>\n",
    "Grid-search is used to find the optimal hyperparameters of a model which results in the most ‘accurate’ predictions."
   ]
  },
  {
   "cell_type": "code",
   "execution_count": 4,
   "id": "48a1e32a",
   "metadata": {
    "execution": {
     "iopub.execute_input": "2021-09-01T09:45:15.410576Z",
     "iopub.status.busy": "2021-09-01T09:45:15.409479Z",
     "iopub.status.idle": "2021-09-01T09:47:02.676779Z",
     "shell.execute_reply": "2021-09-01T09:47:02.677476Z",
     "shell.execute_reply.started": "2021-09-01T04:50:54.353328Z"
    },
    "papermill": {
     "duration": 107.29195,
     "end_time": "2021-09-01T09:47:02.677729",
     "exception": false,
     "start_time": "2021-09-01T09:45:15.385779",
     "status": "completed"
    },
    "tags": []
   },
   "outputs": [
    {
     "name": "stdout",
     "output_type": "stream",
     "text": [
      "Fitting 5 folds for each of 32 candidates, totalling 160 fits\n",
      "[CV] criterion=gini, max_depth=1, n_estimators=100 ...................\n"
     ]
    },
    {
     "name": "stderr",
     "output_type": "stream",
     "text": [
      "[Parallel(n_jobs=1)]: Using backend SequentialBackend with 1 concurrent workers.\n"
     ]
    },
    {
     "name": "stdout",
     "output_type": "stream",
     "text": [
      "[CV]  criterion=gini, max_depth=1, n_estimators=100, score=0.542, total=   2.3s\n",
      "[CV] criterion=gini, max_depth=1, n_estimators=100 ...................\n"
     ]
    },
    {
     "name": "stderr",
     "output_type": "stream",
     "text": [
      "[Parallel(n_jobs=1)]: Done   1 out of   1 | elapsed:    2.3s remaining:    0.0s\n"
     ]
    },
    {
     "name": "stdout",
     "output_type": "stream",
     "text": [
      "[CV]  criterion=gini, max_depth=1, n_estimators=100, score=0.615, total=   0.3s\n",
      "[CV] criterion=gini, max_depth=1, n_estimators=100 ...................\n"
     ]
    },
    {
     "name": "stderr",
     "output_type": "stream",
     "text": [
      "[Parallel(n_jobs=1)]: Done   2 out of   2 | elapsed:    2.6s remaining:    0.0s\n"
     ]
    },
    {
     "name": "stdout",
     "output_type": "stream",
     "text": [
      "[CV]  criterion=gini, max_depth=1, n_estimators=100, score=0.580, total=   0.3s\n",
      "[CV] criterion=gini, max_depth=1, n_estimators=100 ...................\n"
     ]
    },
    {
     "name": "stderr",
     "output_type": "stream",
     "text": [
      "[Parallel(n_jobs=1)]: Done   3 out of   3 | elapsed:    3.0s remaining:    0.0s\n"
     ]
    },
    {
     "name": "stdout",
     "output_type": "stream",
     "text": [
      "[CV]  criterion=gini, max_depth=1, n_estimators=100, score=0.580, total=   0.3s\n",
      "[CV] criterion=gini, max_depth=1, n_estimators=100 ...................\n"
     ]
    },
    {
     "name": "stderr",
     "output_type": "stream",
     "text": [
      "[Parallel(n_jobs=1)]: Done   4 out of   4 | elapsed:    3.3s remaining:    0.0s\n"
     ]
    },
    {
     "name": "stdout",
     "output_type": "stream",
     "text": [
      "[CV]  criterion=gini, max_depth=1, n_estimators=100, score=0.610, total=   0.3s\n",
      "[CV] criterion=gini, max_depth=1, n_estimators=200 ...................\n"
     ]
    },
    {
     "name": "stderr",
     "output_type": "stream",
     "text": [
      "[Parallel(n_jobs=1)]: Done   5 out of   5 | elapsed:    3.6s remaining:    0.0s\n"
     ]
    },
    {
     "name": "stdout",
     "output_type": "stream",
     "text": [
      "[CV]  criterion=gini, max_depth=1, n_estimators=200, score=0.593, total=   0.4s\n",
      "[CV] criterion=gini, max_depth=1, n_estimators=200 ...................\n"
     ]
    },
    {
     "name": "stderr",
     "output_type": "stream",
     "text": [
      "[Parallel(n_jobs=1)]: Done   6 out of   6 | elapsed:    4.0s remaining:    0.0s\n"
     ]
    },
    {
     "name": "stdout",
     "output_type": "stream",
     "text": [
      "[CV]  criterion=gini, max_depth=1, n_estimators=200, score=0.580, total=   0.4s\n",
      "[CV] criterion=gini, max_depth=1, n_estimators=200 ...................\n"
     ]
    },
    {
     "name": "stderr",
     "output_type": "stream",
     "text": [
      "[Parallel(n_jobs=1)]: Done   7 out of   7 | elapsed:    4.5s remaining:    0.0s\n"
     ]
    },
    {
     "name": "stdout",
     "output_type": "stream",
     "text": [
      "[CV]  criterion=gini, max_depth=1, n_estimators=200, score=0.608, total=   0.5s\n",
      "[CV] criterion=gini, max_depth=1, n_estimators=200 ...................\n"
     ]
    },
    {
     "name": "stderr",
     "output_type": "stream",
     "text": [
      "[Parallel(n_jobs=1)]: Done   8 out of   8 | elapsed:    4.9s remaining:    0.0s\n"
     ]
    },
    {
     "name": "stdout",
     "output_type": "stream",
     "text": [
      "[CV]  criterion=gini, max_depth=1, n_estimators=200, score=0.593, total=   0.4s\n",
      "[CV] criterion=gini, max_depth=1, n_estimators=200 ...................\n"
     ]
    },
    {
     "name": "stderr",
     "output_type": "stream",
     "text": [
      "[Parallel(n_jobs=1)]: Done   9 out of   9 | elapsed:    5.4s remaining:    0.0s\n"
     ]
    },
    {
     "name": "stdout",
     "output_type": "stream",
     "text": [
      "[CV]  criterion=gini, max_depth=1, n_estimators=200, score=0.598, total=   0.4s\n",
      "[CV] criterion=gini, max_depth=1, n_estimators=300 ...................\n",
      "[CV]  criterion=gini, max_depth=1, n_estimators=300, score=0.552, total=   0.6s\n",
      "[CV] criterion=gini, max_depth=1, n_estimators=300 ...................\n",
      "[CV]  criterion=gini, max_depth=1, n_estimators=300, score=0.547, total=   0.7s\n",
      "[CV] criterion=gini, max_depth=1, n_estimators=300 ...................\n",
      "[CV]  criterion=gini, max_depth=1, n_estimators=300, score=0.627, total=   0.7s\n",
      "[CV] criterion=gini, max_depth=1, n_estimators=300 ...................\n",
      "[CV]  criterion=gini, max_depth=1, n_estimators=300, score=0.588, total=   0.7s\n",
      "[CV] criterion=gini, max_depth=1, n_estimators=300 ...................\n",
      "[CV]  criterion=gini, max_depth=1, n_estimators=300, score=0.575, total=   0.6s\n",
      "[CV] criterion=gini, max_depth=1, n_estimators=400 ...................\n",
      "[CV]  criterion=gini, max_depth=1, n_estimators=400, score=0.608, total=   0.7s\n",
      "[CV] criterion=gini, max_depth=1, n_estimators=400 ...................\n",
      "[CV]  criterion=gini, max_depth=1, n_estimators=400, score=0.610, total=   0.7s\n",
      "[CV] criterion=gini, max_depth=1, n_estimators=400 ...................\n",
      "[CV]  criterion=gini, max_depth=1, n_estimators=400, score=0.608, total=   0.8s\n",
      "[CV] criterion=gini, max_depth=1, n_estimators=400 ...................\n",
      "[CV]  criterion=gini, max_depth=1, n_estimators=400, score=0.573, total=   0.7s\n",
      "[CV] criterion=gini, max_depth=1, n_estimators=400 ...................\n",
      "[CV]  criterion=gini, max_depth=1, n_estimators=400, score=0.580, total=   0.7s\n",
      "[CV] criterion=gini, max_depth=4, n_estimators=100 ...................\n",
      "[CV]  criterion=gini, max_depth=4, n_estimators=100, score=0.812, total=   0.3s\n",
      "[CV] criterion=gini, max_depth=4, n_estimators=100 ...................\n",
      "[CV]  criterion=gini, max_depth=4, n_estimators=100, score=0.823, total=   0.3s\n",
      "[CV] criterion=gini, max_depth=4, n_estimators=100 ...................\n",
      "[CV]  criterion=gini, max_depth=4, n_estimators=100, score=0.845, total=   0.3s\n",
      "[CV] criterion=gini, max_depth=4, n_estimators=100 ...................\n",
      "[CV]  criterion=gini, max_depth=4, n_estimators=100, score=0.818, total=   0.3s\n",
      "[CV] criterion=gini, max_depth=4, n_estimators=100 ...................\n",
      "[CV]  criterion=gini, max_depth=4, n_estimators=100, score=0.792, total=   0.3s\n",
      "[CV] criterion=gini, max_depth=4, n_estimators=200 ...................\n",
      "[CV]  criterion=gini, max_depth=4, n_estimators=200, score=0.805, total=   0.5s\n",
      "[CV] criterion=gini, max_depth=4, n_estimators=200 ...................\n",
      "[CV]  criterion=gini, max_depth=4, n_estimators=200, score=0.825, total=   0.5s\n",
      "[CV] criterion=gini, max_depth=4, n_estimators=200 ...................\n",
      "[CV]  criterion=gini, max_depth=4, n_estimators=200, score=0.853, total=   0.5s\n",
      "[CV] criterion=gini, max_depth=4, n_estimators=200 ...................\n",
      "[CV]  criterion=gini, max_depth=4, n_estimators=200, score=0.818, total=   0.5s\n",
      "[CV] criterion=gini, max_depth=4, n_estimators=200 ...................\n",
      "[CV]  criterion=gini, max_depth=4, n_estimators=200, score=0.818, total=   0.5s\n",
      "[CV] criterion=gini, max_depth=4, n_estimators=300 ...................\n",
      "[CV]  criterion=gini, max_depth=4, n_estimators=300, score=0.802, total=   0.7s\n",
      "[CV] criterion=gini, max_depth=4, n_estimators=300 ...................\n",
      "[CV]  criterion=gini, max_depth=4, n_estimators=300, score=0.820, total=   0.7s\n",
      "[CV] criterion=gini, max_depth=4, n_estimators=300 ...................\n",
      "[CV]  criterion=gini, max_depth=4, n_estimators=300, score=0.840, total=   0.7s\n",
      "[CV] criterion=gini, max_depth=4, n_estimators=300 ...................\n",
      "[CV]  criterion=gini, max_depth=4, n_estimators=300, score=0.828, total=   0.7s\n",
      "[CV] criterion=gini, max_depth=4, n_estimators=300 ...................\n",
      "[CV]  criterion=gini, max_depth=4, n_estimators=300, score=0.815, total=   0.7s\n",
      "[CV] criterion=gini, max_depth=4, n_estimators=400 ...................\n",
      "[CV]  criterion=gini, max_depth=4, n_estimators=400, score=0.807, total=   1.0s\n",
      "[CV] criterion=gini, max_depth=4, n_estimators=400 ...................\n",
      "[CV]  criterion=gini, max_depth=4, n_estimators=400, score=0.828, total=   0.8s\n",
      "[CV] criterion=gini, max_depth=4, n_estimators=400 ...................\n",
      "[CV]  criterion=gini, max_depth=4, n_estimators=400, score=0.840, total=   1.0s\n",
      "[CV] criterion=gini, max_depth=4, n_estimators=400 ...................\n",
      "[CV]  criterion=gini, max_depth=4, n_estimators=400, score=0.820, total=   0.8s\n",
      "[CV] criterion=gini, max_depth=4, n_estimators=400 ...................\n",
      "[CV]  criterion=gini, max_depth=4, n_estimators=400, score=0.812, total=   0.8s\n",
      "[CV] criterion=gini, max_depth=6, n_estimators=100 ...................\n",
      "[CV]  criterion=gini, max_depth=6, n_estimators=100, score=0.843, total=   0.3s\n",
      "[CV] criterion=gini, max_depth=6, n_estimators=100 ...................\n",
      "[CV]  criterion=gini, max_depth=6, n_estimators=100, score=0.868, total=   0.3s\n",
      "[CV] criterion=gini, max_depth=6, n_estimators=100 ...................\n",
      "[CV]  criterion=gini, max_depth=6, n_estimators=100, score=0.885, total=   0.3s\n",
      "[CV] criterion=gini, max_depth=6, n_estimators=100 ...................\n",
      "[CV]  criterion=gini, max_depth=6, n_estimators=100, score=0.838, total=   0.3s\n",
      "[CV] criterion=gini, max_depth=6, n_estimators=100 ...................\n",
      "[CV]  criterion=gini, max_depth=6, n_estimators=100, score=0.838, total=   0.3s\n",
      "[CV] criterion=gini, max_depth=6, n_estimators=200 ...................\n",
      "[CV]  criterion=gini, max_depth=6, n_estimators=200, score=0.850, total=   0.5s\n",
      "[CV] criterion=gini, max_depth=6, n_estimators=200 ...................\n",
      "[CV]  criterion=gini, max_depth=6, n_estimators=200, score=0.863, total=   0.5s\n",
      "[CV] criterion=gini, max_depth=6, n_estimators=200 ...................\n",
      "[CV]  criterion=gini, max_depth=6, n_estimators=200, score=0.875, total=   0.6s\n",
      "[CV] criterion=gini, max_depth=6, n_estimators=200 ...................\n",
      "[CV]  criterion=gini, max_depth=6, n_estimators=200, score=0.853, total=   0.6s\n",
      "[CV] criterion=gini, max_depth=6, n_estimators=200 ...................\n",
      "[CV]  criterion=gini, max_depth=6, n_estimators=200, score=0.843, total=   0.5s\n",
      "[CV] criterion=gini, max_depth=6, n_estimators=300 ...................\n",
      "[CV]  criterion=gini, max_depth=6, n_estimators=300, score=0.838, total=   0.7s\n",
      "[CV] criterion=gini, max_depth=6, n_estimators=300 ...................\n",
      "[CV]  criterion=gini, max_depth=6, n_estimators=300, score=0.860, total=   0.7s\n",
      "[CV] criterion=gini, max_depth=6, n_estimators=300 ...................\n",
      "[CV]  criterion=gini, max_depth=6, n_estimators=300, score=0.873, total=   0.7s\n",
      "[CV] criterion=gini, max_depth=6, n_estimators=300 ...................\n",
      "[CV]  criterion=gini, max_depth=6, n_estimators=300, score=0.850, total=   0.8s\n",
      "[CV] criterion=gini, max_depth=6, n_estimators=300 ...................\n",
      "[CV]  criterion=gini, max_depth=6, n_estimators=300, score=0.835, total=   0.8s\n",
      "[CV] criterion=gini, max_depth=6, n_estimators=400 ...................\n",
      "[CV]  criterion=gini, max_depth=6, n_estimators=400, score=0.853, total=   0.9s\n",
      "[CV] criterion=gini, max_depth=6, n_estimators=400 ...................\n",
      "[CV]  criterion=gini, max_depth=6, n_estimators=400, score=0.853, total=   0.9s\n",
      "[CV] criterion=gini, max_depth=6, n_estimators=400 ...................\n",
      "[CV]  criterion=gini, max_depth=6, n_estimators=400, score=0.902, total=   0.8s\n",
      "[CV] criterion=gini, max_depth=6, n_estimators=400 ...................\n",
      "[CV]  criterion=gini, max_depth=6, n_estimators=400, score=0.850, total=   0.9s\n",
      "[CV] criterion=gini, max_depth=6, n_estimators=400 ...................\n",
      "[CV]  criterion=gini, max_depth=6, n_estimators=400, score=0.833, total=   1.0s\n",
      "[CV] criterion=gini, max_depth=9, n_estimators=100 ...................\n",
      "[CV]  criterion=gini, max_depth=9, n_estimators=100, score=0.870, total=   0.4s\n",
      "[CV] criterion=gini, max_depth=9, n_estimators=100 ...................\n",
      "[CV]  criterion=gini, max_depth=9, n_estimators=100, score=0.875, total=   0.4s\n",
      "[CV] criterion=gini, max_depth=9, n_estimators=100 ...................\n",
      "[CV]  criterion=gini, max_depth=9, n_estimators=100, score=0.902, total=   0.4s\n",
      "[CV] criterion=gini, max_depth=9, n_estimators=100 ...................\n",
      "[CV]  criterion=gini, max_depth=9, n_estimators=100, score=0.860, total=   0.4s\n",
      "[CV] criterion=gini, max_depth=9, n_estimators=100 ...................\n",
      "[CV]  criterion=gini, max_depth=9, n_estimators=100, score=0.858, total=   0.4s\n",
      "[CV] criterion=gini, max_depth=9, n_estimators=200 ...................\n",
      "[CV]  criterion=gini, max_depth=9, n_estimators=200, score=0.870, total=   0.5s\n",
      "[CV] criterion=gini, max_depth=9, n_estimators=200 ...................\n",
      "[CV]  criterion=gini, max_depth=9, n_estimators=200, score=0.880, total=   0.6s\n",
      "[CV] criterion=gini, max_depth=9, n_estimators=200 ...................\n",
      "[CV]  criterion=gini, max_depth=9, n_estimators=200, score=0.892, total=   0.5s\n",
      "[CV] criterion=gini, max_depth=9, n_estimators=200 ...................\n",
      "[CV]  criterion=gini, max_depth=9, n_estimators=200, score=0.865, total=   0.5s\n",
      "[CV] criterion=gini, max_depth=9, n_estimators=200 ...................\n",
      "[CV]  criterion=gini, max_depth=9, n_estimators=200, score=0.855, total=   0.6s\n",
      "[CV] criterion=gini, max_depth=9, n_estimators=300 ...................\n",
      "[CV]  criterion=gini, max_depth=9, n_estimators=300, score=0.890, total=   0.8s\n",
      "[CV] criterion=gini, max_depth=9, n_estimators=300 ...................\n",
      "[CV]  criterion=gini, max_depth=9, n_estimators=300, score=0.890, total=   0.8s\n",
      "[CV] criterion=gini, max_depth=9, n_estimators=300 ...................\n",
      "[CV]  criterion=gini, max_depth=9, n_estimators=300, score=0.902, total=   0.8s\n",
      "[CV] criterion=gini, max_depth=9, n_estimators=300 ...................\n",
      "[CV]  criterion=gini, max_depth=9, n_estimators=300, score=0.860, total=   0.8s\n",
      "[CV] criterion=gini, max_depth=9, n_estimators=300 ...................\n",
      "[CV]  criterion=gini, max_depth=9, n_estimators=300, score=0.850, total=   0.8s\n",
      "[CV] criterion=gini, max_depth=9, n_estimators=400 ...................\n",
      "[CV]  criterion=gini, max_depth=9, n_estimators=400, score=0.875, total=   1.1s\n",
      "[CV] criterion=gini, max_depth=9, n_estimators=400 ...................\n",
      "[CV]  criterion=gini, max_depth=9, n_estimators=400, score=0.882, total=   1.0s\n",
      "[CV] criterion=gini, max_depth=9, n_estimators=400 ...................\n",
      "[CV]  criterion=gini, max_depth=9, n_estimators=400, score=0.900, total=   1.0s\n",
      "[CV] criterion=gini, max_depth=9, n_estimators=400 ...................\n",
      "[CV]  criterion=gini, max_depth=9, n_estimators=400, score=0.868, total=   1.0s\n",
      "[CV] criterion=gini, max_depth=9, n_estimators=400 ...................\n",
      "[CV]  criterion=gini, max_depth=9, n_estimators=400, score=0.860, total=   1.0s\n",
      "[CV] criterion=entropy, max_depth=1, n_estimators=100 ................\n",
      "[CV]  criterion=entropy, max_depth=1, n_estimators=100, score=0.575, total=   0.3s\n",
      "[CV] criterion=entropy, max_depth=1, n_estimators=100 ................\n",
      "[CV]  criterion=entropy, max_depth=1, n_estimators=100, score=0.550, total=   0.4s\n",
      "[CV] criterion=entropy, max_depth=1, n_estimators=100 ................\n",
      "[CV]  criterion=entropy, max_depth=1, n_estimators=100, score=0.585, total=   0.3s\n",
      "[CV] criterion=entropy, max_depth=1, n_estimators=100 ................\n",
      "[CV]  criterion=entropy, max_depth=1, n_estimators=100, score=0.557, total=   0.3s\n",
      "[CV] criterion=entropy, max_depth=1, n_estimators=100 ................\n",
      "[CV]  criterion=entropy, max_depth=1, n_estimators=100, score=0.555, total=   0.3s\n",
      "[CV] criterion=entropy, max_depth=1, n_estimators=200 ................\n",
      "[CV]  criterion=entropy, max_depth=1, n_estimators=200, score=0.547, total=   0.5s\n",
      "[CV] criterion=entropy, max_depth=1, n_estimators=200 ................\n",
      "[CV]  criterion=entropy, max_depth=1, n_estimators=200, score=0.542, total=   0.4s\n",
      "[CV] criterion=entropy, max_depth=1, n_estimators=200 ................\n",
      "[CV]  criterion=entropy, max_depth=1, n_estimators=200, score=0.568, total=   0.5s\n",
      "[CV] criterion=entropy, max_depth=1, n_estimators=200 ................\n",
      "[CV]  criterion=entropy, max_depth=1, n_estimators=200, score=0.547, total=   0.5s\n",
      "[CV] criterion=entropy, max_depth=1, n_estimators=200 ................\n",
      "[CV]  criterion=entropy, max_depth=1, n_estimators=200, score=0.568, total=   0.5s\n",
      "[CV] criterion=entropy, max_depth=1, n_estimators=300 ................\n",
      "[CV]  criterion=entropy, max_depth=1, n_estimators=300, score=0.575, total=   0.7s\n",
      "[CV] criterion=entropy, max_depth=1, n_estimators=300 ................\n",
      "[CV]  criterion=entropy, max_depth=1, n_estimators=300, score=0.532, total=   0.8s\n",
      "[CV] criterion=entropy, max_depth=1, n_estimators=300 ................\n",
      "[CV]  criterion=entropy, max_depth=1, n_estimators=300, score=0.573, total=   0.7s\n",
      "[CV] criterion=entropy, max_depth=1, n_estimators=300 ................\n",
      "[CV]  criterion=entropy, max_depth=1, n_estimators=300, score=0.555, total=   0.7s\n",
      "[CV] criterion=entropy, max_depth=1, n_estimators=300 ................\n",
      "[CV]  criterion=entropy, max_depth=1, n_estimators=300, score=0.560, total=   0.6s\n",
      "[CV] criterion=entropy, max_depth=1, n_estimators=400 ................\n",
      "[CV]  criterion=entropy, max_depth=1, n_estimators=400, score=0.593, total=   0.8s\n",
      "[CV] criterion=entropy, max_depth=1, n_estimators=400 ................\n",
      "[CV]  criterion=entropy, max_depth=1, n_estimators=400, score=0.573, total=   0.9s\n",
      "[CV] criterion=entropy, max_depth=1, n_estimators=400 ................\n",
      "[CV]  criterion=entropy, max_depth=1, n_estimators=400, score=0.557, total=   0.8s\n",
      "[CV] criterion=entropy, max_depth=1, n_estimators=400 ................\n",
      "[CV]  criterion=entropy, max_depth=1, n_estimators=400, score=0.535, total=   0.8s\n",
      "[CV] criterion=entropy, max_depth=1, n_estimators=400 ................\n",
      "[CV]  criterion=entropy, max_depth=1, n_estimators=400, score=0.550, total=   0.7s\n",
      "[CV] criterion=entropy, max_depth=4, n_estimators=100 ................\n",
      "[CV]  criterion=entropy, max_depth=4, n_estimators=100, score=0.830, total=   0.4s\n",
      "[CV] criterion=entropy, max_depth=4, n_estimators=100 ................\n",
      "[CV]  criterion=entropy, max_depth=4, n_estimators=100, score=0.797, total=   0.3s\n",
      "[CV] criterion=entropy, max_depth=4, n_estimators=100 ................\n",
      "[CV]  criterion=entropy, max_depth=4, n_estimators=100, score=0.815, total=   0.3s\n",
      "[CV] criterion=entropy, max_depth=4, n_estimators=100 ................\n",
      "[CV]  criterion=entropy, max_depth=4, n_estimators=100, score=0.810, total=   0.3s\n",
      "[CV] criterion=entropy, max_depth=4, n_estimators=100 ................\n",
      "[CV]  criterion=entropy, max_depth=4, n_estimators=100, score=0.790, total=   0.4s\n",
      "[CV] criterion=entropy, max_depth=4, n_estimators=200 ................\n",
      "[CV]  criterion=entropy, max_depth=4, n_estimators=200, score=0.807, total=   0.6s\n",
      "[CV] criterion=entropy, max_depth=4, n_estimators=200 ................\n",
      "[CV]  criterion=entropy, max_depth=4, n_estimators=200, score=0.800, total=   0.5s\n",
      "[CV] criterion=entropy, max_depth=4, n_estimators=200 ................\n",
      "[CV]  criterion=entropy, max_depth=4, n_estimators=200, score=0.825, total=   0.5s\n",
      "[CV] criterion=entropy, max_depth=4, n_estimators=200 ................\n",
      "[CV]  criterion=entropy, max_depth=4, n_estimators=200, score=0.820, total=   0.5s\n",
      "[CV] criterion=entropy, max_depth=4, n_estimators=200 ................\n",
      "[CV]  criterion=entropy, max_depth=4, n_estimators=200, score=0.802, total=   0.5s\n",
      "[CV] criterion=entropy, max_depth=4, n_estimators=300 ................\n",
      "[CV]  criterion=entropy, max_depth=4, n_estimators=300, score=0.820, total=   0.7s\n",
      "[CV] criterion=entropy, max_depth=4, n_estimators=300 ................\n",
      "[CV]  criterion=entropy, max_depth=4, n_estimators=300, score=0.812, total=   0.8s\n",
      "[CV] criterion=entropy, max_depth=4, n_estimators=300 ................\n",
      "[CV]  criterion=entropy, max_depth=4, n_estimators=300, score=0.848, total=   0.8s\n",
      "[CV] criterion=entropy, max_depth=4, n_estimators=300 ................\n",
      "[CV]  criterion=entropy, max_depth=4, n_estimators=300, score=0.830, total=   0.8s\n",
      "[CV] criterion=entropy, max_depth=4, n_estimators=300 ................\n",
      "[CV]  criterion=entropy, max_depth=4, n_estimators=300, score=0.810, total=   0.8s\n",
      "[CV] criterion=entropy, max_depth=4, n_estimators=400 ................\n",
      "[CV]  criterion=entropy, max_depth=4, n_estimators=400, score=0.810, total=   0.9s\n",
      "[CV] criterion=entropy, max_depth=4, n_estimators=400 ................\n",
      "[CV]  criterion=entropy, max_depth=4, n_estimators=400, score=0.800, total=   0.9s\n",
      "[CV] criterion=entropy, max_depth=4, n_estimators=400 ................\n",
      "[CV]  criterion=entropy, max_depth=4, n_estimators=400, score=0.835, total=   0.9s\n",
      "[CV] criterion=entropy, max_depth=4, n_estimators=400 ................\n",
      "[CV]  criterion=entropy, max_depth=4, n_estimators=400, score=0.838, total=   0.9s\n",
      "[CV] criterion=entropy, max_depth=4, n_estimators=400 ................\n",
      "[CV]  criterion=entropy, max_depth=4, n_estimators=400, score=0.823, total=   0.9s\n",
      "[CV] criterion=entropy, max_depth=6, n_estimators=100 ................\n",
      "[CV]  criterion=entropy, max_depth=6, n_estimators=100, score=0.835, total=   0.4s\n",
      "[CV] criterion=entropy, max_depth=6, n_estimators=100 ................\n",
      "[CV]  criterion=entropy, max_depth=6, n_estimators=100, score=0.860, total=   0.4s\n",
      "[CV] criterion=entropy, max_depth=6, n_estimators=100 ................\n",
      "[CV]  criterion=entropy, max_depth=6, n_estimators=100, score=0.875, total=   0.4s\n",
      "[CV] criterion=entropy, max_depth=6, n_estimators=100 ................\n",
      "[CV]  criterion=entropy, max_depth=6, n_estimators=100, score=0.845, total=   0.4s\n",
      "[CV] criterion=entropy, max_depth=6, n_estimators=100 ................\n",
      "[CV]  criterion=entropy, max_depth=6, n_estimators=100, score=0.840, total=   0.4s\n",
      "[CV] criterion=entropy, max_depth=6, n_estimators=200 ................\n",
      "[CV]  criterion=entropy, max_depth=6, n_estimators=200, score=0.853, total=   0.6s\n",
      "[CV] criterion=entropy, max_depth=6, n_estimators=200 ................\n",
      "[CV]  criterion=entropy, max_depth=6, n_estimators=200, score=0.840, total=   0.6s\n",
      "[CV] criterion=entropy, max_depth=6, n_estimators=200 ................\n",
      "[CV]  criterion=entropy, max_depth=6, n_estimators=200, score=0.875, total=   0.6s\n",
      "[CV] criterion=entropy, max_depth=6, n_estimators=200 ................\n",
      "[CV]  criterion=entropy, max_depth=6, n_estimators=200, score=0.845, total=   0.6s\n",
      "[CV] criterion=entropy, max_depth=6, n_estimators=200 ................\n",
      "[CV]  criterion=entropy, max_depth=6, n_estimators=200, score=0.853, total=   0.6s\n",
      "[CV] criterion=entropy, max_depth=6, n_estimators=300 ................\n",
      "[CV]  criterion=entropy, max_depth=6, n_estimators=300, score=0.850, total=   0.9s\n",
      "[CV] criterion=entropy, max_depth=6, n_estimators=300 ................\n",
      "[CV]  criterion=entropy, max_depth=6, n_estimators=300, score=0.863, total=   0.8s\n",
      "[CV] criterion=entropy, max_depth=6, n_estimators=300 ................\n",
      "[CV]  criterion=entropy, max_depth=6, n_estimators=300, score=0.882, total=   0.9s\n",
      "[CV] criterion=entropy, max_depth=6, n_estimators=300 ................\n",
      "[CV]  criterion=entropy, max_depth=6, n_estimators=300, score=0.838, total=   0.8s\n",
      "[CV] criterion=entropy, max_depth=6, n_estimators=300 ................\n",
      "[CV]  criterion=entropy, max_depth=6, n_estimators=300, score=0.843, total=   0.9s\n",
      "[CV] criterion=entropy, max_depth=6, n_estimators=400 ................\n",
      "[CV]  criterion=entropy, max_depth=6, n_estimators=400, score=0.860, total=   1.0s\n",
      "[CV] criterion=entropy, max_depth=6, n_estimators=400 ................\n",
      "[CV]  criterion=entropy, max_depth=6, n_estimators=400, score=0.845, total=   1.0s\n",
      "[CV] criterion=entropy, max_depth=6, n_estimators=400 ................\n",
      "[CV]  criterion=entropy, max_depth=6, n_estimators=400, score=0.885, total=   1.0s\n",
      "[CV] criterion=entropy, max_depth=6, n_estimators=400 ................\n",
      "[CV]  criterion=entropy, max_depth=6, n_estimators=400, score=0.845, total=   1.1s\n",
      "[CV] criterion=entropy, max_depth=6, n_estimators=400 ................\n",
      "[CV]  criterion=entropy, max_depth=6, n_estimators=400, score=0.850, total=   1.1s\n",
      "[CV] criterion=entropy, max_depth=9, n_estimators=100 ................\n",
      "[CV]  criterion=entropy, max_depth=9, n_estimators=100, score=0.875, total=   0.4s\n",
      "[CV] criterion=entropy, max_depth=9, n_estimators=100 ................\n",
      "[CV]  criterion=entropy, max_depth=9, n_estimators=100, score=0.877, total=   0.4s\n",
      "[CV] criterion=entropy, max_depth=9, n_estimators=100 ................\n",
      "[CV]  criterion=entropy, max_depth=9, n_estimators=100, score=0.892, total=   0.4s\n",
      "[CV] criterion=entropy, max_depth=9, n_estimators=100 ................\n",
      "[CV]  criterion=entropy, max_depth=9, n_estimators=100, score=0.863, total=   0.5s\n",
      "[CV] criterion=entropy, max_depth=9, n_estimators=100 ................\n",
      "[CV]  criterion=entropy, max_depth=9, n_estimators=100, score=0.850, total=   0.5s\n",
      "[CV] criterion=entropy, max_depth=9, n_estimators=200 ................\n",
      "[CV]  criterion=entropy, max_depth=9, n_estimators=200, score=0.880, total=   0.7s\n",
      "[CV] criterion=entropy, max_depth=9, n_estimators=200 ................\n",
      "[CV]  criterion=entropy, max_depth=9, n_estimators=200, score=0.885, total=   0.7s\n",
      "[CV] criterion=entropy, max_depth=9, n_estimators=200 ................\n",
      "[CV]  criterion=entropy, max_depth=9, n_estimators=200, score=0.905, total=   0.7s\n",
      "[CV] criterion=entropy, max_depth=9, n_estimators=200 ................\n",
      "[CV]  criterion=entropy, max_depth=9, n_estimators=200, score=0.868, total=   0.7s\n",
      "[CV] criterion=entropy, max_depth=9, n_estimators=200 ................\n",
      "[CV]  criterion=entropy, max_depth=9, n_estimators=200, score=0.868, total=   0.7s\n",
      "[CV] criterion=entropy, max_depth=9, n_estimators=300 ................\n",
      "[CV]  criterion=entropy, max_depth=9, n_estimators=300, score=0.880, total=   0.9s\n",
      "[CV] criterion=entropy, max_depth=9, n_estimators=300 ................\n",
      "[CV]  criterion=entropy, max_depth=9, n_estimators=300, score=0.875, total=   1.0s\n",
      "[CV] criterion=entropy, max_depth=9, n_estimators=300 ................\n",
      "[CV]  criterion=entropy, max_depth=9, n_estimators=300, score=0.905, total=   1.0s\n",
      "[CV] criterion=entropy, max_depth=9, n_estimators=300 ................\n",
      "[CV]  criterion=entropy, max_depth=9, n_estimators=300, score=0.875, total=   1.0s\n",
      "[CV] criterion=entropy, max_depth=9, n_estimators=300 ................\n",
      "[CV]  criterion=entropy, max_depth=9, n_estimators=300, score=0.860, total=   1.0s\n",
      "[CV] criterion=entropy, max_depth=9, n_estimators=400 ................\n",
      "[CV]  criterion=entropy, max_depth=9, n_estimators=400, score=0.882, total=   1.3s\n",
      "[CV] criterion=entropy, max_depth=9, n_estimators=400 ................\n",
      "[CV]  criterion=entropy, max_depth=9, n_estimators=400, score=0.880, total=   1.3s\n",
      "[CV] criterion=entropy, max_depth=9, n_estimators=400 ................\n",
      "[CV]  criterion=entropy, max_depth=9, n_estimators=400, score=0.907, total=   1.3s\n",
      "[CV] criterion=entropy, max_depth=9, n_estimators=400 ................\n",
      "[CV]  criterion=entropy, max_depth=9, n_estimators=400, score=0.850, total=   1.2s\n",
      "[CV] criterion=entropy, max_depth=9, n_estimators=400 ................\n",
      "[CV]  criterion=entropy, max_depth=9, n_estimators=400, score=0.855, total=   1.3s\n"
     ]
    },
    {
     "name": "stderr",
     "output_type": "stream",
     "text": [
      "[Parallel(n_jobs=1)]: Done 160 out of 160 | elapsed:  1.8min finished\n"
     ]
    },
    {
     "data": {
      "text/plain": [
       "GridSearchCV(cv=5, estimator=RandomForestClassifier(n_jobs=-1), n_jobs=1,\n",
       "             param_grid={'criterion': ['gini', 'entropy'],\n",
       "                         'max_depth': [1, 4, 6, 9],\n",
       "                         'n_estimators': [100, 200, 300, 400]},\n",
       "             scoring='accuracy', verbose=10)"
      ]
     },
     "execution_count": 4,
     "metadata": {},
     "output_type": "execute_result"
    }
   ],
   "source": [
    "# define the model here\n",
    "# i am using random forest with n_jobs=-1\n",
    "# n_jobs=-1 => use all cores\n",
    "classifier = ensemble.RandomForestClassifier(n_jobs=-1)\n",
    "# define a grid of parameters\n",
    "# this can be a dictionary or a list of \n",
    "# dictionaries\n",
    "param_grid = {\n",
    "    \"n_estimators\" : [100, 200, 300, 400],\n",
    "    \"max_depth\" : [1, 4, 6, 9],\n",
    "    \"criterion\" : [\"gini\", \"entropy\"],\n",
    "}\n",
    "\n",
    "# initialize grid search\n",
    "# estimator is the model that we have defined\n",
    "# param_grid is the grid of parameters\n",
    "# we use accuracy as our metric. you can define your own\n",
    "# higher value of verbose implies a lot of details are printed\n",
    "# cv=5 means that we are using 5 fold cv (not stratified)\n",
    "\n",
    "model = model_selection.GridSearchCV(\n",
    "    estimator=classifier,\n",
    "    param_grid=param_grid,\n",
    "    scoring=\"accuracy\",\n",
    "    verbose=10,\n",
    "    n_jobs=1,\n",
    "    cv=5\n",
    ")\n",
    "\n",
    "# fit the model and extract best score\n",
    "model.fit(X, y)\n"
   ]
  },
  {
   "cell_type": "code",
   "execution_count": 5,
   "id": "575f1f36",
   "metadata": {
    "execution": {
     "iopub.execute_input": "2021-09-01T09:47:02.792737Z",
     "iopub.status.busy": "2021-09-01T09:47:02.791683Z",
     "iopub.status.idle": "2021-09-01T09:47:02.798469Z",
     "shell.execute_reply": "2021-09-01T09:47:02.799115Z",
     "shell.execute_reply.started": "2021-09-01T04:53:19.306221Z"
    },
    "papermill": {
     "duration": 0.066101,
     "end_time": "2021-09-01T09:47:02.799415",
     "exception": false,
     "start_time": "2021-09-01T09:47:02.733314",
     "status": "completed"
    },
    "tags": []
   },
   "outputs": [
    {
     "name": "stdout",
     "output_type": "stream",
     "text": [
      "0.881\n",
      "{'bootstrap': True, 'ccp_alpha': 0.0, 'class_weight': None, 'criterion': 'entropy', 'max_depth': 9, 'max_features': 'auto', 'max_leaf_nodes': None, 'max_samples': None, 'min_impurity_decrease': 0.0, 'min_impurity_split': None, 'min_samples_leaf': 1, 'min_samples_split': 2, 'min_weight_fraction_leaf': 0.0, 'n_estimators': 200, 'n_jobs': -1, 'oob_score': False, 'random_state': None, 'verbose': 0, 'warm_start': False}\n"
     ]
    }
   ],
   "source": [
    "print(model.best_score_)\n",
    "print(model.best_estimator_.get_params())"
   ]
  },
  {
   "cell_type": "markdown",
   "id": "81170b7e",
   "metadata": {
    "papermill": {
     "duration": 0.05539,
     "end_time": "2021-09-01T09:47:02.910423",
     "exception": false,
     "start_time": "2021-09-01T09:47:02.855033",
     "status": "completed"
    },
    "tags": []
   },
   "source": [
    "we see that our best five fold accuracy score was 0.8805 and we have the best parameters from our grid search. "
   ]
  },
  {
   "cell_type": "markdown",
   "id": "ff049b47",
   "metadata": {
    "papermill": {
     "duration": 0.055808,
     "end_time": "2021-09-01T09:47:03.023570",
     "exception": false,
     "start_time": "2021-09-01T09:47:02.967762",
     "status": "completed"
    },
    "tags": []
   },
   "source": [
    "WOW, it is amazing to see model itself choose its best values. </br>These are the best hyperparameter values for this model. </br>\n",
    "You can try with different parameters values and see if the accuracy score goes high or not, play with parameters."
   ]
  },
  {
   "cell_type": "markdown",
   "id": "cb43fb55",
   "metadata": {
    "papermill": {
     "duration": 0.055543,
     "end_time": "2021-09-01T09:47:03.134163",
     "exception": false,
     "start_time": "2021-09-01T09:47:03.078620",
     "status": "completed"
    },
    "tags": []
   },
   "source": [
    "- It must also be noted that if you have k- fold cross-validation, you need even more loops which implies even more time to find the perfect parameters. Grid search is therefore not very popular."
   ]
  },
  {
   "cell_type": "markdown",
   "id": "7368c7a1",
   "metadata": {
    "papermill": {
     "duration": 0.054528,
     "end_time": "2021-09-01T09:47:03.243635",
     "exception": false,
     "start_time": "2021-09-01T09:47:03.189107",
     "status": "completed"
    },
    "tags": []
   },
   "source": [
    "# 2. Randomized Search CV </br>\n",
    "RandomizedSearchCV is very useful when we have many parameters to try and the training time is very long. For this example, I use a random-forest classifier, so I suppose you already know how this kind of algorithm works."
   ]
  },
  {
   "cell_type": "markdown",
   "id": "4f63c95c",
   "metadata": {
    "papermill": {
     "duration": 0.057294,
     "end_time": "2021-09-01T09:47:03.357449",
     "exception": false,
     "start_time": "2021-09-01T09:47:03.300155",
     "status": "completed"
    },
    "tags": []
   },
   "source": [
    "In random search, we randomly select a combination of parameters and calculate the cross-validation score. The time consumed here is less than grid search because we do not evaluate over all different combinations of parameters. We choose how many times we want to evaluate our models, and that’s what decides how much time the search takes."
   ]
  },
  {
   "cell_type": "code",
   "execution_count": 6,
   "id": "11b80a4a",
   "metadata": {
    "execution": {
     "iopub.execute_input": "2021-09-01T09:47:03.480874Z",
     "iopub.status.busy": "2021-09-01T09:47:03.479775Z",
     "iopub.status.idle": "2021-09-01T09:50:14.432931Z",
     "shell.execute_reply": "2021-09-01T09:50:14.433450Z",
     "shell.execute_reply.started": "2021-09-01T06:40:27.168971Z"
    },
    "papermill": {
     "duration": 191.019455,
     "end_time": "2021-09-01T09:50:14.433650",
     "exception": false,
     "start_time": "2021-09-01T09:47:03.414195",
     "status": "completed"
    },
    "tags": []
   },
   "outputs": [
    {
     "name": "stdout",
     "output_type": "stream",
     "text": [
      "Fitting 5 folds for each of 20 candidates, totalling 100 fits\n",
      "[CV] n_estimators=400, max_depth=15, criterion=gini ..................\n"
     ]
    },
    {
     "name": "stderr",
     "output_type": "stream",
     "text": [
      "[Parallel(n_jobs=1)]: Using backend SequentialBackend with 1 concurrent workers.\n"
     ]
    },
    {
     "name": "stdout",
     "output_type": "stream",
     "text": [
      "[CV]  n_estimators=400, max_depth=15, criterion=gini, score=0.882, total=   1.2s\n",
      "[CV] n_estimators=400, max_depth=15, criterion=gini ..................\n"
     ]
    },
    {
     "name": "stderr",
     "output_type": "stream",
     "text": [
      "[Parallel(n_jobs=1)]: Done   1 out of   1 | elapsed:    1.2s remaining:    0.0s\n"
     ]
    },
    {
     "name": "stdout",
     "output_type": "stream",
     "text": [
      "[CV]  n_estimators=400, max_depth=15, criterion=gini, score=0.877, total=   1.1s\n",
      "[CV] n_estimators=400, max_depth=15, criterion=gini ..................\n"
     ]
    },
    {
     "name": "stderr",
     "output_type": "stream",
     "text": [
      "[Parallel(n_jobs=1)]: Done   2 out of   2 | elapsed:    2.3s remaining:    0.0s\n"
     ]
    },
    {
     "name": "stdout",
     "output_type": "stream",
     "text": [
      "[CV]  n_estimators=400, max_depth=15, criterion=gini, score=0.897, total=   1.0s\n",
      "[CV] n_estimators=400, max_depth=15, criterion=gini ..................\n"
     ]
    },
    {
     "name": "stderr",
     "output_type": "stream",
     "text": [
      "[Parallel(n_jobs=1)]: Done   3 out of   3 | elapsed:    3.3s remaining:    0.0s\n"
     ]
    },
    {
     "name": "stdout",
     "output_type": "stream",
     "text": [
      "[CV]  n_estimators=400, max_depth=15, criterion=gini, score=0.880, total=   1.1s\n",
      "[CV] n_estimators=400, max_depth=15, criterion=gini ..................\n"
     ]
    },
    {
     "name": "stderr",
     "output_type": "stream",
     "text": [
      "[Parallel(n_jobs=1)]: Done   4 out of   4 | elapsed:    4.5s remaining:    0.0s\n"
     ]
    },
    {
     "name": "stdout",
     "output_type": "stream",
     "text": [
      "[CV]  n_estimators=400, max_depth=15, criterion=gini, score=0.870, total=   1.1s\n",
      "[CV] n_estimators=1100, max_depth=17, criterion=gini .................\n"
     ]
    },
    {
     "name": "stderr",
     "output_type": "stream",
     "text": [
      "[Parallel(n_jobs=1)]: Done   5 out of   5 | elapsed:    5.6s remaining:    0.0s\n"
     ]
    },
    {
     "name": "stdout",
     "output_type": "stream",
     "text": [
      "[CV]  n_estimators=1100, max_depth=17, criterion=gini, score=0.880, total=   2.6s\n",
      "[CV] n_estimators=1100, max_depth=17, criterion=gini .................\n"
     ]
    },
    {
     "name": "stderr",
     "output_type": "stream",
     "text": [
      "[Parallel(n_jobs=1)]: Done   6 out of   6 | elapsed:    8.2s remaining:    0.0s\n"
     ]
    },
    {
     "name": "stdout",
     "output_type": "stream",
     "text": [
      "[CV]  n_estimators=1100, max_depth=17, criterion=gini, score=0.882, total=   2.8s\n",
      "[CV] n_estimators=1100, max_depth=17, criterion=gini .................\n"
     ]
    },
    {
     "name": "stderr",
     "output_type": "stream",
     "text": [
      "[Parallel(n_jobs=1)]: Done   7 out of   7 | elapsed:   11.0s remaining:    0.0s\n"
     ]
    },
    {
     "name": "stdout",
     "output_type": "stream",
     "text": [
      "[CV]  n_estimators=1100, max_depth=17, criterion=gini, score=0.892, total=   2.9s\n",
      "[CV] n_estimators=1100, max_depth=17, criterion=gini .................\n"
     ]
    },
    {
     "name": "stderr",
     "output_type": "stream",
     "text": [
      "[Parallel(n_jobs=1)]: Done   8 out of   8 | elapsed:   13.9s remaining:    0.0s\n"
     ]
    },
    {
     "name": "stdout",
     "output_type": "stream",
     "text": [
      "[CV]  n_estimators=1100, max_depth=17, criterion=gini, score=0.877, total=   3.0s\n",
      "[CV] n_estimators=1100, max_depth=17, criterion=gini .................\n"
     ]
    },
    {
     "name": "stderr",
     "output_type": "stream",
     "text": [
      "[Parallel(n_jobs=1)]: Done   9 out of   9 | elapsed:   16.9s remaining:    0.0s\n"
     ]
    },
    {
     "name": "stdout",
     "output_type": "stream",
     "text": [
      "[CV]  n_estimators=1100, max_depth=17, criterion=gini, score=0.870, total=   2.6s\n",
      "[CV] n_estimators=1100, max_depth=9, criterion=gini ..................\n",
      "[CV]  n_estimators=1100, max_depth=9, criterion=gini, score=0.877, total=   2.4s\n",
      "[CV] n_estimators=1100, max_depth=9, criterion=gini ..................\n",
      "[CV]  n_estimators=1100, max_depth=9, criterion=gini, score=0.877, total=   2.4s\n",
      "[CV] n_estimators=1100, max_depth=9, criterion=gini ..................\n",
      "[CV]  n_estimators=1100, max_depth=9, criterion=gini, score=0.887, total=   2.4s\n",
      "[CV] n_estimators=1100, max_depth=9, criterion=gini ..................\n",
      "[CV]  n_estimators=1100, max_depth=9, criterion=gini, score=0.865, total=   2.4s\n",
      "[CV] n_estimators=1100, max_depth=9, criterion=gini ..................\n",
      "[CV]  n_estimators=1100, max_depth=9, criterion=gini, score=0.873, total=   2.4s\n",
      "[CV] n_estimators=100, max_depth=6, criterion=entropy ................\n",
      "[CV]  n_estimators=100, max_depth=6, criterion=entropy, score=0.823, total=   0.4s\n",
      "[CV] n_estimators=100, max_depth=6, criterion=entropy ................\n",
      "[CV]  n_estimators=100, max_depth=6, criterion=entropy, score=0.855, total=   0.4s\n",
      "[CV] n_estimators=100, max_depth=6, criterion=entropy ................\n",
      "[CV]  n_estimators=100, max_depth=6, criterion=entropy, score=0.882, total=   0.4s\n",
      "[CV] n_estimators=100, max_depth=6, criterion=entropy ................\n",
      "[CV]  n_estimators=100, max_depth=6, criterion=entropy, score=0.840, total=   0.4s\n",
      "[CV] n_estimators=100, max_depth=6, criterion=entropy ................\n",
      "[CV]  n_estimators=100, max_depth=6, criterion=entropy, score=0.843, total=   0.4s\n",
      "[CV] n_estimators=1200, max_depth=2, criterion=gini ..................\n",
      "[CV]  n_estimators=1200, max_depth=2, criterion=gini, score=0.767, total=   1.9s\n",
      "[CV] n_estimators=1200, max_depth=2, criterion=gini ..................\n",
      "[CV]  n_estimators=1200, max_depth=2, criterion=gini, score=0.723, total=   1.9s\n",
      "[CV] n_estimators=1200, max_depth=2, criterion=gini ..................\n",
      "[CV]  n_estimators=1200, max_depth=2, criterion=gini, score=0.790, total=   1.9s\n",
      "[CV] n_estimators=1200, max_depth=2, criterion=gini ..................\n",
      "[CV]  n_estimators=1200, max_depth=2, criterion=gini, score=0.780, total=   1.9s\n",
      "[CV] n_estimators=1200, max_depth=2, criterion=gini ..................\n",
      "[CV]  n_estimators=1200, max_depth=2, criterion=gini, score=0.770, total=   1.9s\n",
      "[CV] n_estimators=1300, max_depth=16, criterion=entropy ..............\n",
      "[CV]  n_estimators=1300, max_depth=16, criterion=entropy, score=0.882, total=   4.2s\n",
      "[CV] n_estimators=1300, max_depth=16, criterion=entropy ..............\n",
      "[CV]  n_estimators=1300, max_depth=16, criterion=entropy, score=0.892, total=   4.1s\n",
      "[CV] n_estimators=1300, max_depth=16, criterion=entropy ..............\n",
      "[CV]  n_estimators=1300, max_depth=16, criterion=entropy, score=0.912, total=   4.0s\n",
      "[CV] n_estimators=1300, max_depth=16, criterion=entropy ..............\n",
      "[CV]  n_estimators=1300, max_depth=16, criterion=entropy, score=0.870, total=   4.1s\n",
      "[CV] n_estimators=1300, max_depth=16, criterion=entropy ..............\n",
      "[CV]  n_estimators=1300, max_depth=16, criterion=entropy, score=0.870, total=   4.0s\n",
      "[CV] n_estimators=100, max_depth=4, criterion=entropy ................\n",
      "[CV]  n_estimators=100, max_depth=4, criterion=entropy, score=0.790, total=   0.4s\n",
      "[CV] n_estimators=100, max_depth=4, criterion=entropy ................\n",
      "[CV]  n_estimators=100, max_depth=4, criterion=entropy, score=0.797, total=   0.4s\n",
      "[CV] n_estimators=100, max_depth=4, criterion=entropy ................\n",
      "[CV]  n_estimators=100, max_depth=4, criterion=entropy, score=0.830, total=   0.3s\n",
      "[CV] n_estimators=100, max_depth=4, criterion=entropy ................\n",
      "[CV]  n_estimators=100, max_depth=4, criterion=entropy, score=0.812, total=   0.4s\n",
      "[CV] n_estimators=100, max_depth=4, criterion=entropy ................\n",
      "[CV]  n_estimators=100, max_depth=4, criterion=entropy, score=0.805, total=   0.4s\n",
      "[CV] n_estimators=1100, max_depth=18, criterion=gini .................\n",
      "[CV]  n_estimators=1100, max_depth=18, criterion=gini, score=0.885, total=   2.6s\n",
      "[CV] n_estimators=1100, max_depth=18, criterion=gini .................\n",
      "[CV]  n_estimators=1100, max_depth=18, criterion=gini, score=0.887, total=   2.6s\n",
      "[CV] n_estimators=1100, max_depth=18, criterion=gini .................\n",
      "[CV]  n_estimators=1100, max_depth=18, criterion=gini, score=0.897, total=   2.6s\n",
      "[CV] n_estimators=1100, max_depth=18, criterion=gini .................\n",
      "[CV]  n_estimators=1100, max_depth=18, criterion=gini, score=0.873, total=   2.6s\n",
      "[CV] n_estimators=1100, max_depth=18, criterion=gini .................\n",
      "[CV]  n_estimators=1100, max_depth=18, criterion=gini, score=0.865, total=   2.8s\n",
      "[CV] n_estimators=1200, max_depth=9, criterion=gini ..................\n",
      "[CV]  n_estimators=1200, max_depth=9, criterion=gini, score=0.875, total=   2.7s\n",
      "[CV] n_estimators=1200, max_depth=9, criterion=gini ..................\n",
      "[CV]  n_estimators=1200, max_depth=9, criterion=gini, score=0.882, total=   2.6s\n",
      "[CV] n_estimators=1200, max_depth=9, criterion=gini ..................\n",
      "[CV]  n_estimators=1200, max_depth=9, criterion=gini, score=0.882, total=   2.6s\n",
      "[CV] n_estimators=1200, max_depth=9, criterion=gini ..................\n",
      "[CV]  n_estimators=1200, max_depth=9, criterion=gini, score=0.875, total=   2.7s\n",
      "[CV] n_estimators=1200, max_depth=9, criterion=gini ..................\n",
      "[CV]  n_estimators=1200, max_depth=9, criterion=gini, score=0.863, total=   2.7s\n",
      "[CV] n_estimators=1300, max_depth=5, criterion=gini ..................\n",
      "[CV]  n_estimators=1300, max_depth=5, criterion=gini, score=0.840, total=   2.4s\n",
      "[CV] n_estimators=1300, max_depth=5, criterion=gini ..................\n",
      "[CV]  n_estimators=1300, max_depth=5, criterion=gini, score=0.850, total=   2.6s\n",
      "[CV] n_estimators=1300, max_depth=5, criterion=gini ..................\n",
      "[CV]  n_estimators=1300, max_depth=5, criterion=gini, score=0.873, total=   2.4s\n",
      "[CV] n_estimators=1300, max_depth=5, criterion=gini ..................\n",
      "[CV]  n_estimators=1300, max_depth=5, criterion=gini, score=0.843, total=   2.5s\n",
      "[CV] n_estimators=1300, max_depth=5, criterion=gini ..................\n",
      "[CV]  n_estimators=1300, max_depth=5, criterion=gini, score=0.835, total=   2.3s\n",
      "[CV] n_estimators=1000, max_depth=9, criterion=entropy ...............\n",
      "[CV]  n_estimators=1000, max_depth=9, criterion=entropy, score=0.880, total=   2.8s\n",
      "[CV] n_estimators=1000, max_depth=9, criterion=entropy ...............\n",
      "[CV]  n_estimators=1000, max_depth=9, criterion=entropy, score=0.885, total=   2.9s\n",
      "[CV] n_estimators=1000, max_depth=9, criterion=entropy ...............\n",
      "[CV]  n_estimators=1000, max_depth=9, criterion=entropy, score=0.910, total=   3.2s\n",
      "[CV] n_estimators=1000, max_depth=9, criterion=entropy ...............\n",
      "[CV]  n_estimators=1000, max_depth=9, criterion=entropy, score=0.873, total=   2.9s\n",
      "[CV] n_estimators=1000, max_depth=9, criterion=entropy ...............\n",
      "[CV]  n_estimators=1000, max_depth=9, criterion=entropy, score=0.868, total=   2.9s\n",
      "[CV] n_estimators=100, max_depth=12, criterion=gini ..................\n",
      "[CV]  n_estimators=100, max_depth=12, criterion=gini, score=0.863, total=   0.4s\n",
      "[CV] n_estimators=100, max_depth=12, criterion=gini ..................\n",
      "[CV]  n_estimators=100, max_depth=12, criterion=gini, score=0.887, total=   0.4s\n",
      "[CV] n_estimators=100, max_depth=12, criterion=gini ..................\n",
      "[CV]  n_estimators=100, max_depth=12, criterion=gini, score=0.892, total=   0.4s\n",
      "[CV] n_estimators=100, max_depth=12, criterion=gini ..................\n",
      "[CV]  n_estimators=100, max_depth=12, criterion=gini, score=0.882, total=   0.4s\n",
      "[CV] n_estimators=100, max_depth=12, criterion=gini ..................\n",
      "[CV]  n_estimators=100, max_depth=12, criterion=gini, score=0.860, total=   0.4s\n",
      "[CV] n_estimators=800, max_depth=9, criterion=gini ...................\n",
      "[CV]  n_estimators=800, max_depth=9, criterion=gini, score=0.875, total=   1.9s\n",
      "[CV] n_estimators=800, max_depth=9, criterion=gini ...................\n",
      "[CV]  n_estimators=800, max_depth=9, criterion=gini, score=0.875, total=   1.9s\n",
      "[CV] n_estimators=800, max_depth=9, criterion=gini ...................\n",
      "[CV]  n_estimators=800, max_depth=9, criterion=gini, score=0.887, total=   1.9s\n",
      "[CV] n_estimators=800, max_depth=9, criterion=gini ...................\n",
      "[CV]  n_estimators=800, max_depth=9, criterion=gini, score=0.870, total=   1.9s\n",
      "[CV] n_estimators=800, max_depth=9, criterion=gini ...................\n",
      "[CV]  n_estimators=800, max_depth=9, criterion=gini, score=0.863, total=   1.9s\n",
      "[CV] n_estimators=100, max_depth=10, criterion=gini ..................\n",
      "[CV]  n_estimators=100, max_depth=10, criterion=gini, score=0.860, total=   0.4s\n",
      "[CV] n_estimators=100, max_depth=10, criterion=gini ..................\n",
      "[CV]  n_estimators=100, max_depth=10, criterion=gini, score=0.880, total=   0.4s\n",
      "[CV] n_estimators=100, max_depth=10, criterion=gini ..................\n",
      "[CV]  n_estimators=100, max_depth=10, criterion=gini, score=0.902, total=   0.4s\n",
      "[CV] n_estimators=100, max_depth=10, criterion=gini ..................\n",
      "[CV]  n_estimators=100, max_depth=10, criterion=gini, score=0.858, total=   0.4s\n",
      "[CV] n_estimators=100, max_depth=10, criterion=gini ..................\n",
      "[CV]  n_estimators=100, max_depth=10, criterion=gini, score=0.863, total=   0.4s\n",
      "[CV] n_estimators=1100, max_depth=11, criterion=gini .................\n",
      "[CV]  n_estimators=1100, max_depth=11, criterion=gini, score=0.877, total=   2.7s\n",
      "[CV] n_estimators=1100, max_depth=11, criterion=gini .................\n",
      "[CV]  n_estimators=1100, max_depth=11, criterion=gini, score=0.882, total=   2.5s\n",
      "[CV] n_estimators=1100, max_depth=11, criterion=gini .................\n",
      "[CV]  n_estimators=1100, max_depth=11, criterion=gini, score=0.887, total=   2.6s\n",
      "[CV] n_estimators=1100, max_depth=11, criterion=gini .................\n",
      "[CV]  n_estimators=1100, max_depth=11, criterion=gini, score=0.870, total=   2.7s\n",
      "[CV] n_estimators=1100, max_depth=11, criterion=gini .................\n",
      "[CV]  n_estimators=1100, max_depth=11, criterion=gini, score=0.865, total=   2.6s\n",
      "[CV] n_estimators=100, max_depth=14, criterion=gini ..................\n",
      "[CV]  n_estimators=100, max_depth=14, criterion=gini, score=0.865, total=   0.4s\n",
      "[CV] n_estimators=100, max_depth=14, criterion=gini ..................\n",
      "[CV]  n_estimators=100, max_depth=14, criterion=gini, score=0.902, total=   0.4s\n",
      "[CV] n_estimators=100, max_depth=14, criterion=gini ..................\n",
      "[CV]  n_estimators=100, max_depth=14, criterion=gini, score=0.892, total=   0.4s\n",
      "[CV] n_estimators=100, max_depth=14, criterion=gini ..................\n",
      "[CV]  n_estimators=100, max_depth=14, criterion=gini, score=0.877, total=   0.4s\n",
      "[CV] n_estimators=100, max_depth=14, criterion=gini ..................\n",
      "[CV]  n_estimators=100, max_depth=14, criterion=gini, score=0.858, total=   0.4s\n",
      "[CV] n_estimators=800, max_depth=1, criterion=entropy ................\n",
      "[CV]  n_estimators=800, max_depth=1, criterion=entropy, score=0.570, total=   1.3s\n",
      "[CV] n_estimators=800, max_depth=1, criterion=entropy ................\n",
      "[CV]  n_estimators=800, max_depth=1, criterion=entropy, score=0.560, total=   1.4s\n",
      "[CV] n_estimators=800, max_depth=1, criterion=entropy ................\n",
      "[CV]  n_estimators=800, max_depth=1, criterion=entropy, score=0.545, total=   1.3s\n",
      "[CV] n_estimators=800, max_depth=1, criterion=entropy ................\n",
      "[CV]  n_estimators=800, max_depth=1, criterion=entropy, score=0.560, total=   1.3s\n",
      "[CV] n_estimators=800, max_depth=1, criterion=entropy ................\n",
      "[CV]  n_estimators=800, max_depth=1, criterion=entropy, score=0.545, total=   1.3s\n",
      "[CV] n_estimators=1400, max_depth=18, criterion=entropy ..............\n",
      "[CV]  n_estimators=1400, max_depth=18, criterion=entropy, score=0.877, total=   4.3s\n",
      "[CV] n_estimators=1400, max_depth=18, criterion=entropy ..............\n",
      "[CV]  n_estimators=1400, max_depth=18, criterion=entropy, score=0.892, total=   4.3s\n",
      "[CV] n_estimators=1400, max_depth=18, criterion=entropy ..............\n",
      "[CV]  n_estimators=1400, max_depth=18, criterion=entropy, score=0.910, total=   4.3s\n",
      "[CV] n_estimators=1400, max_depth=18, criterion=entropy ..............\n",
      "[CV]  n_estimators=1400, max_depth=18, criterion=entropy, score=0.875, total=   4.3s\n",
      "[CV] n_estimators=1400, max_depth=18, criterion=entropy ..............\n",
      "[CV]  n_estimators=1400, max_depth=18, criterion=entropy, score=0.875, total=   4.7s\n",
      "[CV] n_estimators=200, max_depth=2, criterion=entropy ................\n",
      "[CV]  n_estimators=200, max_depth=2, criterion=entropy, score=0.703, total=   0.5s\n",
      "[CV] n_estimators=200, max_depth=2, criterion=entropy ................\n",
      "[CV]  n_estimators=200, max_depth=2, criterion=entropy, score=0.637, total=   0.5s\n",
      "[CV] n_estimators=200, max_depth=2, criterion=entropy ................\n",
      "[CV]  n_estimators=200, max_depth=2, criterion=entropy, score=0.645, total=   0.5s\n",
      "[CV] n_estimators=200, max_depth=2, criterion=entropy ................\n",
      "[CV]  n_estimators=200, max_depth=2, criterion=entropy, score=0.760, total=   0.5s\n",
      "[CV] n_estimators=200, max_depth=2, criterion=entropy ................\n",
      "[CV]  n_estimators=200, max_depth=2, criterion=entropy, score=0.688, total=   0.5s\n",
      "[CV] n_estimators=500, max_depth=8, criterion=gini ...................\n",
      "[CV]  n_estimators=500, max_depth=8, criterion=gini, score=0.870, total=   1.2s\n",
      "[CV] n_estimators=500, max_depth=8, criterion=gini ...................\n",
      "[CV]  n_estimators=500, max_depth=8, criterion=gini, score=0.875, total=   1.2s\n",
      "[CV] n_estimators=500, max_depth=8, criterion=gini ...................\n",
      "[CV]  n_estimators=500, max_depth=8, criterion=gini, score=0.887, total=   1.2s\n",
      "[CV] n_estimators=500, max_depth=8, criterion=gini ...................\n",
      "[CV]  n_estimators=500, max_depth=8, criterion=gini, score=0.865, total=   1.2s\n",
      "[CV] n_estimators=500, max_depth=8, criterion=gini ...................\n",
      "[CV]  n_estimators=500, max_depth=8, criterion=gini, score=0.853, total=   1.2s\n"
     ]
    },
    {
     "name": "stderr",
     "output_type": "stream",
     "text": [
      "[Parallel(n_jobs=1)]: Done 100 out of 100 | elapsed:  3.1min finished\n"
     ]
    },
    {
     "name": "stdout",
     "output_type": "stream",
     "text": [
      "Best score: 0.8859999999999999\n",
      "Best parameters set:\n",
      "\tcriterion: entropy\n",
      "\tmax_depth: 18\n",
      "\tn_estimators: 1400\n"
     ]
    }
   ],
   "source": [
    "# define the model here\n",
    "# i am using random forest with n_jobs=-1\n",
    "# n_jobs=-1 => use all cores\n",
    "classifier = ensemble.RandomForestClassifier(n_jobs=-1)\n",
    "\n",
    "# define a grid of parameters\n",
    "# this can be a dictionary or a list of # dictionaries\n",
    "param_grid = {\n",
    "    \"n_estimators\" : np.arange(100, 1500, 100),\n",
    "    \"max_depth\" : np.arange(1, 20),\n",
    "    \"criterion\" : [\"gini\", \"entropy\"],\n",
    "}\n",
    "\n",
    "# initialize random search\n",
    "# estimator is the model that we have defined\n",
    "# param_distributions is the grid/distribution of parameters\n",
    "# we use accuracy as our metric. you can define your own\n",
    "# higher value of verbose implies a lot of details are printed\n",
    "# cv=5 means that we are using 5 fold cv (not stratified)\n",
    "# n_iter is the number of iterations we want\n",
    "# if param_distributions has all the values as list,\n",
    "# random search will be done by sampling without replacement\n",
    "# if any of the parameters come from a distribution,\n",
    "# random search uses sampling with replacement\n",
    "model = model_selection.RandomizedSearchCV(\n",
    "    estimator=classifier,\n",
    "    param_distributions=param_grid,\n",
    "    scoring=\"accuracy\",\n",
    "    n_iter=20,\n",
    "    verbose=10,\n",
    "    n_jobs=1,\n",
    "    cv=5\n",
    ")\n",
    "model.fit(X, y)\n",
    "print(f\"Best score: {model.best_score_}\")\n",
    "\n",
    "print(\"Best parameters set:\")\n",
    "best_parameters = model.best_estimator_.get_params()\n",
    "for param_name in sorted(param_grid.keys()):\n",
    "    print(f\"\\t{param_name}: {best_parameters[param_name]}\")"
   ]
  },
  {
   "cell_type": "markdown",
   "id": "c823258d",
   "metadata": {
    "papermill": {
     "duration": 0.080368,
     "end_time": "2021-09-01T09:50:14.594608",
     "exception": false,
     "start_time": "2021-09-01T09:50:14.514240",
     "status": "completed"
    },
    "tags": []
   },
   "source": [
    "We have changed the grid of parameters for random search, and it seems like we even improved the results a little bit."
   ]
  },
  {
   "cell_type": "markdown",
   "id": "8000fb64",
   "metadata": {
    "papermill": {
     "duration": 0.080141,
     "end_time": "2021-09-01T09:50:14.755096",
     "exception": false,
     "start_time": "2021-09-01T09:50:14.674955",
     "status": "completed"
    },
    "tags": []
   },
   "source": [
    "# 3. You can also do same thing with some kind of custom."
   ]
  },
  {
   "cell_type": "markdown",
   "id": "900d4223",
   "metadata": {
    "papermill": {
     "duration": 0.08087,
     "end_time": "2021-09-01T09:50:14.916361",
     "exception": false,
     "start_time": "2021-09-01T09:50:14.835491",
     "status": "completed"
    },
    "tags": []
   },
   "source": [
    "- You can also use some kind of pipelines."
   ]
  },
  {
   "cell_type": "markdown",
   "id": "b7ede3e4",
   "metadata": {
    "papermill": {
     "duration": 0.081693,
     "end_time": "2021-09-01T09:50:15.078305",
     "exception": false,
     "start_time": "2021-09-01T09:50:14.996612",
     "status": "completed"
    },
    "tags": []
   },
   "source": [
    "Sometimes, you might want to use a pipeline. For example, let’s say that we are dealing with a multiclass classification problem. In this problem, the training data consists of two text columns, and you are required to build a model to predict the class. "
   ]
  },
  {
   "cell_type": "code",
   "execution_count": 7,
   "id": "03964ce6",
   "metadata": {
    "execution": {
     "iopub.execute_input": "2021-09-01T09:50:15.245024Z",
     "iopub.status.busy": "2021-09-01T09:50:15.244353Z",
     "iopub.status.idle": "2021-09-01T09:50:15.249926Z",
     "shell.execute_reply": "2021-09-01T09:50:15.250486Z",
     "shell.execute_reply.started": "2021-09-01T05:14:53.145814Z"
    },
    "papermill": {
     "duration": 0.092074,
     "end_time": "2021-09-01T09:50:15.250687",
     "exception": false,
     "start_time": "2021-09-01T09:50:15.158613",
     "status": "completed"
    },
    "tags": []
   },
   "outputs": [],
   "source": [
    "from sklearn import decomposition\n",
    "from sklearn import preprocessing\n",
    "from sklearn import pipeline"
   ]
  },
  {
   "cell_type": "code",
   "execution_count": 8,
   "id": "e8dc75e7",
   "metadata": {
    "execution": {
     "iopub.execute_input": "2021-09-01T09:50:15.427556Z",
     "iopub.status.busy": "2021-09-01T09:50:15.426788Z",
     "iopub.status.idle": "2021-09-01T09:52:42.572122Z",
     "shell.execute_reply": "2021-09-01T09:52:42.571582Z",
     "shell.execute_reply.started": "2021-09-01T05:35:51.531009Z"
    },
    "papermill": {
     "duration": 147.240701,
     "end_time": "2021-09-01T09:52:42.572304",
     "exception": false,
     "start_time": "2021-09-01T09:50:15.331603",
     "status": "completed"
    },
    "tags": []
   },
   "outputs": [
    {
     "name": "stdout",
     "output_type": "stream",
     "text": [
      "Fitting 5 folds for each of 10 candidates, totalling 50 fits\n",
      "[CV] rf__n_estimators=1100, rf__max_depth=19, rf__criterion=gini, pca__n_components=8 \n"
     ]
    },
    {
     "name": "stderr",
     "output_type": "stream",
     "text": [
      "[Parallel(n_jobs=1)]: Using backend SequentialBackend with 1 concurrent workers.\n"
     ]
    },
    {
     "name": "stdout",
     "output_type": "stream",
     "text": [
      "[CV]  rf__n_estimators=1100, rf__max_depth=19, rf__criterion=gini, pca__n_components=8, score=0.403, total=   3.1s\n",
      "[CV] rf__n_estimators=1100, rf__max_depth=19, rf__criterion=gini, pca__n_components=8 \n"
     ]
    },
    {
     "name": "stderr",
     "output_type": "stream",
     "text": [
      "[Parallel(n_jobs=1)]: Done   1 out of   1 | elapsed:    3.2s remaining:    0.0s\n"
     ]
    },
    {
     "name": "stdout",
     "output_type": "stream",
     "text": [
      "[CV]  rf__n_estimators=1100, rf__max_depth=19, rf__criterion=gini, pca__n_components=8, score=0.420, total=   2.9s\n",
      "[CV] rf__n_estimators=1100, rf__max_depth=19, rf__criterion=gini, pca__n_components=8 \n"
     ]
    },
    {
     "name": "stderr",
     "output_type": "stream",
     "text": [
      "[Parallel(n_jobs=1)]: Done   2 out of   2 | elapsed:    6.1s remaining:    0.0s\n"
     ]
    },
    {
     "name": "stdout",
     "output_type": "stream",
     "text": [
      "[CV]  rf__n_estimators=1100, rf__max_depth=19, rf__criterion=gini, pca__n_components=8, score=0.365, total=   3.0s\n",
      "[CV] rf__n_estimators=1100, rf__max_depth=19, rf__criterion=gini, pca__n_components=8 \n"
     ]
    },
    {
     "name": "stderr",
     "output_type": "stream",
     "text": [
      "[Parallel(n_jobs=1)]: Done   3 out of   3 | elapsed:    9.1s remaining:    0.0s\n"
     ]
    },
    {
     "name": "stdout",
     "output_type": "stream",
     "text": [
      "[CV]  rf__n_estimators=1100, rf__max_depth=19, rf__criterion=gini, pca__n_components=8, score=0.417, total=   2.9s\n",
      "[CV] rf__n_estimators=1100, rf__max_depth=19, rf__criterion=gini, pca__n_components=8 \n"
     ]
    },
    {
     "name": "stderr",
     "output_type": "stream",
     "text": [
      "[Parallel(n_jobs=1)]: Done   4 out of   4 | elapsed:   12.1s remaining:    0.0s\n"
     ]
    },
    {
     "name": "stdout",
     "output_type": "stream",
     "text": [
      "[CV]  rf__n_estimators=1100, rf__max_depth=19, rf__criterion=gini, pca__n_components=8, score=0.405, total=   3.3s\n",
      "[CV] rf__n_estimators=500, rf__max_depth=17, rf__criterion=gini, pca__n_components=8 \n"
     ]
    },
    {
     "name": "stderr",
     "output_type": "stream",
     "text": [
      "[Parallel(n_jobs=1)]: Done   5 out of   5 | elapsed:   15.4s remaining:    0.0s\n"
     ]
    },
    {
     "name": "stdout",
     "output_type": "stream",
     "text": [
      "[CV]  rf__n_estimators=500, rf__max_depth=17, rf__criterion=gini, pca__n_components=8, score=0.403, total=   1.5s\n",
      "[CV] rf__n_estimators=500, rf__max_depth=17, rf__criterion=gini, pca__n_components=8 \n"
     ]
    },
    {
     "name": "stderr",
     "output_type": "stream",
     "text": [
      "[Parallel(n_jobs=1)]: Done   6 out of   6 | elapsed:   16.9s remaining:    0.0s\n"
     ]
    },
    {
     "name": "stdout",
     "output_type": "stream",
     "text": [
      "[CV]  rf__n_estimators=500, rf__max_depth=17, rf__criterion=gini, pca__n_components=8, score=0.415, total=   1.5s\n",
      "[CV] rf__n_estimators=500, rf__max_depth=17, rf__criterion=gini, pca__n_components=8 \n"
     ]
    },
    {
     "name": "stderr",
     "output_type": "stream",
     "text": [
      "[Parallel(n_jobs=1)]: Done   7 out of   7 | elapsed:   18.4s remaining:    0.0s\n"
     ]
    },
    {
     "name": "stdout",
     "output_type": "stream",
     "text": [
      "[CV]  rf__n_estimators=500, rf__max_depth=17, rf__criterion=gini, pca__n_components=8, score=0.383, total=   1.5s\n",
      "[CV] rf__n_estimators=500, rf__max_depth=17, rf__criterion=gini, pca__n_components=8 \n"
     ]
    },
    {
     "name": "stderr",
     "output_type": "stream",
     "text": [
      "[Parallel(n_jobs=1)]: Done   8 out of   8 | elapsed:   19.9s remaining:    0.0s\n"
     ]
    },
    {
     "name": "stdout",
     "output_type": "stream",
     "text": [
      "[CV]  rf__n_estimators=500, rf__max_depth=17, rf__criterion=gini, pca__n_components=8, score=0.412, total=   1.5s\n",
      "[CV] rf__n_estimators=500, rf__max_depth=17, rf__criterion=gini, pca__n_components=8 \n"
     ]
    },
    {
     "name": "stderr",
     "output_type": "stream",
     "text": [
      "[Parallel(n_jobs=1)]: Done   9 out of   9 | elapsed:   21.4s remaining:    0.0s\n"
     ]
    },
    {
     "name": "stdout",
     "output_type": "stream",
     "text": [
      "[CV]  rf__n_estimators=500, rf__max_depth=17, rf__criterion=gini, pca__n_components=8, score=0.407, total=   1.5s\n",
      "[CV] rf__n_estimators=800, rf__max_depth=6, rf__criterion=gini, pca__n_components=9 \n",
      "[CV]  rf__n_estimators=800, rf__max_depth=6, rf__criterion=gini, pca__n_components=9, score=0.420, total=   2.0s\n",
      "[CV] rf__n_estimators=800, rf__max_depth=6, rf__criterion=gini, pca__n_components=9 \n",
      "[CV]  rf__n_estimators=800, rf__max_depth=6, rf__criterion=gini, pca__n_components=9, score=0.472, total=   1.9s\n",
      "[CV] rf__n_estimators=800, rf__max_depth=6, rf__criterion=gini, pca__n_components=9 \n",
      "[CV]  rf__n_estimators=800, rf__max_depth=6, rf__criterion=gini, pca__n_components=9, score=0.495, total=   2.0s\n",
      "[CV] rf__n_estimators=800, rf__max_depth=6, rf__criterion=gini, pca__n_components=9 \n",
      "[CV]  rf__n_estimators=800, rf__max_depth=6, rf__criterion=gini, pca__n_components=9, score=0.517, total=   1.9s\n",
      "[CV] rf__n_estimators=800, rf__max_depth=6, rf__criterion=gini, pca__n_components=9 \n",
      "[CV]  rf__n_estimators=800, rf__max_depth=6, rf__criterion=gini, pca__n_components=9, score=0.432, total=   2.0s\n",
      "[CV] rf__n_estimators=400, rf__max_depth=11, rf__criterion=entropy, pca__n_components=6 \n",
      "[CV]  rf__n_estimators=400, rf__max_depth=11, rf__criterion=entropy, pca__n_components=6, score=0.385, total=   1.8s\n",
      "[CV] rf__n_estimators=400, rf__max_depth=11, rf__criterion=entropy, pca__n_components=6 \n",
      "[CV]  rf__n_estimators=400, rf__max_depth=11, rf__criterion=entropy, pca__n_components=6, score=0.393, total=   1.8s\n",
      "[CV] rf__n_estimators=400, rf__max_depth=11, rf__criterion=entropy, pca__n_components=6 \n",
      "[CV]  rf__n_estimators=400, rf__max_depth=11, rf__criterion=entropy, pca__n_components=6, score=0.370, total=   1.8s\n",
      "[CV] rf__n_estimators=400, rf__max_depth=11, rf__criterion=entropy, pca__n_components=6 \n",
      "[CV]  rf__n_estimators=400, rf__max_depth=11, rf__criterion=entropy, pca__n_components=6, score=0.440, total=   1.8s\n",
      "[CV] rf__n_estimators=400, rf__max_depth=11, rf__criterion=entropy, pca__n_components=6 \n",
      "[CV]  rf__n_estimators=400, rf__max_depth=11, rf__criterion=entropy, pca__n_components=6, score=0.312, total=   1.8s\n",
      "[CV] rf__n_estimators=1200, rf__max_depth=6, rf__criterion=entropy, pca__n_components=7 \n",
      "[CV]  rf__n_estimators=1200, rf__max_depth=6, rf__criterion=entropy, pca__n_components=7, score=0.398, total=   3.8s\n",
      "[CV] rf__n_estimators=1200, rf__max_depth=6, rf__criterion=entropy, pca__n_components=7 \n",
      "[CV]  rf__n_estimators=1200, rf__max_depth=6, rf__criterion=entropy, pca__n_components=7, score=0.448, total=   4.0s\n",
      "[CV] rf__n_estimators=1200, rf__max_depth=6, rf__criterion=entropy, pca__n_components=7 \n",
      "[CV]  rf__n_estimators=1200, rf__max_depth=6, rf__criterion=entropy, pca__n_components=7, score=0.380, total=   3.7s\n",
      "[CV] rf__n_estimators=1200, rf__max_depth=6, rf__criterion=entropy, pca__n_components=7 \n",
      "[CV]  rf__n_estimators=1200, rf__max_depth=6, rf__criterion=entropy, pca__n_components=7, score=0.427, total=   3.7s\n",
      "[CV] rf__n_estimators=1200, rf__max_depth=6, rf__criterion=entropy, pca__n_components=7 \n",
      "[CV]  rf__n_estimators=1200, rf__max_depth=6, rf__criterion=entropy, pca__n_components=7, score=0.435, total=   3.7s\n",
      "[CV] rf__n_estimators=700, rf__max_depth=15, rf__criterion=entropy, pca__n_components=8 \n",
      "[CV]  rf__n_estimators=700, rf__max_depth=15, rf__criterion=entropy, pca__n_components=8, score=0.417, total=   3.1s\n",
      "[CV] rf__n_estimators=700, rf__max_depth=15, rf__criterion=entropy, pca__n_components=8 \n",
      "[CV]  rf__n_estimators=700, rf__max_depth=15, rf__criterion=entropy, pca__n_components=8, score=0.427, total=   3.0s\n",
      "[CV] rf__n_estimators=700, rf__max_depth=15, rf__criterion=entropy, pca__n_components=8 \n",
      "[CV]  rf__n_estimators=700, rf__max_depth=15, rf__criterion=entropy, pca__n_components=8, score=0.375, total=   3.0s\n",
      "[CV] rf__n_estimators=700, rf__max_depth=15, rf__criterion=entropy, pca__n_components=8 \n",
      "[CV]  rf__n_estimators=700, rf__max_depth=15, rf__criterion=entropy, pca__n_components=8, score=0.412, total=   3.1s\n",
      "[CV] rf__n_estimators=700, rf__max_depth=15, rf__criterion=entropy, pca__n_components=8 \n",
      "[CV]  rf__n_estimators=700, rf__max_depth=15, rf__criterion=entropy, pca__n_components=8, score=0.407, total=   3.0s\n",
      "[CV] rf__n_estimators=1300, rf__max_depth=9, rf__criterion=entropy, pca__n_components=7 \n",
      "[CV]  rf__n_estimators=1300, rf__max_depth=9, rf__criterion=entropy, pca__n_components=7, score=0.410, total=   5.2s\n",
      "[CV] rf__n_estimators=1300, rf__max_depth=9, rf__criterion=entropy, pca__n_components=7 \n",
      "[CV]  rf__n_estimators=1300, rf__max_depth=9, rf__criterion=entropy, pca__n_components=7, score=0.415, total=   4.9s\n",
      "[CV] rf__n_estimators=1300, rf__max_depth=9, rf__criterion=entropy, pca__n_components=7 \n",
      "[CV]  rf__n_estimators=1300, rf__max_depth=9, rf__criterion=entropy, pca__n_components=7, score=0.380, total=   4.8s\n",
      "[CV] rf__n_estimators=1300, rf__max_depth=9, rf__criterion=entropy, pca__n_components=7 \n",
      "[CV]  rf__n_estimators=1300, rf__max_depth=9, rf__criterion=entropy, pca__n_components=7, score=0.425, total=   4.7s\n",
      "[CV] rf__n_estimators=1300, rf__max_depth=9, rf__criterion=entropy, pca__n_components=7 \n",
      "[CV]  rf__n_estimators=1300, rf__max_depth=9, rf__criterion=entropy, pca__n_components=7, score=0.432, total=   4.8s\n",
      "[CV] rf__n_estimators=700, rf__max_depth=15, rf__criterion=gini, pca__n_components=6 \n",
      "[CV]  rf__n_estimators=700, rf__max_depth=15, rf__criterion=gini, pca__n_components=6, score=0.362, total=   1.9s\n",
      "[CV] rf__n_estimators=700, rf__max_depth=15, rf__criterion=gini, pca__n_components=6 \n",
      "[CV]  rf__n_estimators=700, rf__max_depth=15, rf__criterion=gini, pca__n_components=6, score=0.420, total=   1.9s\n",
      "[CV] rf__n_estimators=700, rf__max_depth=15, rf__criterion=gini, pca__n_components=6 \n",
      "[CV]  rf__n_estimators=700, rf__max_depth=15, rf__criterion=gini, pca__n_components=6, score=0.295, total=   2.0s\n",
      "[CV] rf__n_estimators=700, rf__max_depth=15, rf__criterion=gini, pca__n_components=6 \n",
      "[CV]  rf__n_estimators=700, rf__max_depth=15, rf__criterion=gini, pca__n_components=6, score=0.440, total=   1.9s\n",
      "[CV] rf__n_estimators=700, rf__max_depth=15, rf__criterion=gini, pca__n_components=6 \n",
      "[CV]  rf__n_estimators=700, rf__max_depth=15, rf__criterion=gini, pca__n_components=6, score=0.302, total=   2.0s\n",
      "[CV] rf__n_estimators=300, rf__max_depth=15, rf__criterion=entropy, pca__n_components=7 \n",
      "[CV]  rf__n_estimators=300, rf__max_depth=15, rf__criterion=entropy, pca__n_components=7, score=0.383, total=   1.8s\n",
      "[CV] rf__n_estimators=300, rf__max_depth=15, rf__criterion=entropy, pca__n_components=7 \n",
      "[CV]  rf__n_estimators=300, rf__max_depth=15, rf__criterion=entropy, pca__n_components=7, score=0.393, total=   1.4s\n",
      "[CV] rf__n_estimators=300, rf__max_depth=15, rf__criterion=entropy, pca__n_components=7 \n",
      "[CV]  rf__n_estimators=300, rf__max_depth=15, rf__criterion=entropy, pca__n_components=7, score=0.357, total=   1.4s\n",
      "[CV] rf__n_estimators=300, rf__max_depth=15, rf__criterion=entropy, pca__n_components=7 \n",
      "[CV]  rf__n_estimators=300, rf__max_depth=15, rf__criterion=entropy, pca__n_components=7, score=0.435, total=   1.4s\n",
      "[CV] rf__n_estimators=300, rf__max_depth=15, rf__criterion=entropy, pca__n_components=7 \n",
      "[CV]  rf__n_estimators=300, rf__max_depth=15, rf__criterion=entropy, pca__n_components=7, score=0.403, total=   1.5s\n",
      "[CV] rf__n_estimators=1200, rf__max_depth=16, rf__criterion=entropy, pca__n_components=7 \n",
      "[CV]  rf__n_estimators=1200, rf__max_depth=16, rf__criterion=entropy, pca__n_components=7, score=0.393, total=   5.4s\n",
      "[CV] rf__n_estimators=1200, rf__max_depth=16, rf__criterion=entropy, pca__n_components=7 \n",
      "[CV]  rf__n_estimators=1200, rf__max_depth=16, rf__criterion=entropy, pca__n_components=7, score=0.415, total=   5.2s\n",
      "[CV] rf__n_estimators=1200, rf__max_depth=16, rf__criterion=entropy, pca__n_components=7 \n",
      "[CV]  rf__n_estimators=1200, rf__max_depth=16, rf__criterion=entropy, pca__n_components=7, score=0.362, total=   5.1s\n",
      "[CV] rf__n_estimators=1200, rf__max_depth=16, rf__criterion=entropy, pca__n_components=7 \n",
      "[CV]  rf__n_estimators=1200, rf__max_depth=16, rf__criterion=entropy, pca__n_components=7, score=0.420, total=   5.3s\n",
      "[CV] rf__n_estimators=1200, rf__max_depth=16, rf__criterion=entropy, pca__n_components=7 \n",
      "[CV]  rf__n_estimators=1200, rf__max_depth=16, rf__criterion=entropy, pca__n_components=7, score=0.445, total=   5.5s\n"
     ]
    },
    {
     "name": "stderr",
     "output_type": "stream",
     "text": [
      "[Parallel(n_jobs=1)]: Done  50 out of  50 | elapsed:  2.4min finished\n"
     ]
    },
    {
     "name": "stdout",
     "output_type": "stream",
     "text": [
      "0.46749999999999997\n",
      "{'memory': None, 'steps': [('scaling', StandardScaler()), ('pca', PCA(n_components=9)), ('rf', RandomForestClassifier(max_depth=6, n_estimators=800, n_jobs=-1))], 'verbose': False, 'scaling': StandardScaler(), 'pca': PCA(n_components=9), 'rf': RandomForestClassifier(max_depth=6, n_estimators=800, n_jobs=-1), 'scaling__copy': True, 'scaling__with_mean': True, 'scaling__with_std': True, 'pca__copy': True, 'pca__iterated_power': 'auto', 'pca__n_components': 9, 'pca__random_state': None, 'pca__svd_solver': 'auto', 'pca__tol': 0.0, 'pca__whiten': False, 'rf__bootstrap': True, 'rf__ccp_alpha': 0.0, 'rf__class_weight': None, 'rf__criterion': 'gini', 'rf__max_depth': 6, 'rf__max_features': 'auto', 'rf__max_leaf_nodes': None, 'rf__max_samples': None, 'rf__min_impurity_decrease': 0.0, 'rf__min_impurity_split': None, 'rf__min_samples_leaf': 1, 'rf__min_samples_split': 2, 'rf__min_weight_fraction_leaf': 0.0, 'rf__n_estimators': 800, 'rf__n_jobs': -1, 'rf__oob_score': False, 'rf__random_state': None, 'rf__verbose': 0, 'rf__warm_start': False}\n"
     ]
    }
   ],
   "source": [
    "rf = ensemble.RandomForestClassifier(n_jobs=-1)\n",
    "\n",
    "\n",
    "# Here I am creating pipeline\n",
    "scl = preprocessing.StandardScaler()\n",
    "pca = decomposition.PCA()\n",
    "rf = ensemble.RandomForestClassifier(n_jobs=-1)\n",
    "\n",
    "classifier = pipeline.Pipeline(\n",
    "    [\n",
    "        (\"scaling\", scl),\n",
    "        (\"pca\", pca),\n",
    "        (\"rf\", rf),\n",
    "    ]\n",
    "\n",
    ")\n",
    "\n",
    "param_grid = {\n",
    "    # Here we are using our pipeline key \n",
    "    # like #pca__, #scaling__, #rf__\n",
    "    \"pca__n_components\" : np.arange(5, 10),\n",
    "    \"rf__n_estimators\" : np.arange(100, 1500, 100),\n",
    "    \"rf__max_depth\" : np.arange(1, 20),\n",
    "    \"rf__criterion\" : [\"gini\", \"entropy\"],\n",
    "}\n",
    "\n",
    "model = model_selection.RandomizedSearchCV(\n",
    "    estimator=classifier,\n",
    "    param_distributions=param_grid,\n",
    "    scoring=\"accuracy\",\n",
    "    n_iter=10,\n",
    "    verbose=10,\n",
    "    n_jobs=1,\n",
    "    cv=5\n",
    ")\n",
    "model.fit(X, y)\n",
    "print(model.best_score_)\n",
    "print(model.best_estimator_.get_params())"
   ]
  },
  {
   "cell_type": "markdown",
   "id": "121990e9",
   "metadata": {
    "papermill": {
     "duration": 0.09375,
     "end_time": "2021-09-01T09:52:42.761491",
     "exception": false,
     "start_time": "2021-09-01T09:52:42.667741",
     "status": "completed"
    },
    "tags": []
   },
   "source": [
    "The score is not good after using randomizedsearchcv with pipeline."
   ]
  },
  {
   "cell_type": "markdown",
   "id": "1fdcfcc3",
   "metadata": {
    "papermill": {
     "duration": 0.094373,
     "end_time": "2021-09-01T09:52:42.952957",
     "exception": false,
     "start_time": "2021-09-01T09:52:42.858584",
     "status": "completed"
    },
    "tags": []
   },
   "source": [
    "# 4. Bayesian optimization using Gaussian Processes.\n",
    "\n",
    "</br>\n",
    "You can read here : https://scikit-optimize.github.io/stable/modules/generated/skopt.gp_minimize.html"
   ]
  },
  {
   "cell_type": "code",
   "execution_count": 9,
   "id": "e026f03e",
   "metadata": {
    "execution": {
     "iopub.execute_input": "2021-09-01T09:52:43.154162Z",
     "iopub.status.busy": "2021-09-01T09:52:43.152536Z",
     "iopub.status.idle": "2021-09-01T09:56:02.885803Z",
     "shell.execute_reply": "2021-09-01T09:56:02.884996Z",
     "shell.execute_reply.started": "2021-09-01T06:13:26.699242Z"
    },
    "papermill": {
     "duration": 199.837312,
     "end_time": "2021-09-01T09:56:02.886128",
     "exception": false,
     "start_time": "2021-09-01T09:52:43.048816",
     "status": "completed"
    },
    "tags": []
   },
   "outputs": [
    {
     "name": "stdout",
     "output_type": "stream",
     "text": [
      "Iteration No: 1 started. Evaluating function at random point.\n",
      "Iteration No: 1 ended. Evaluation done at random point.\n",
      "Time taken: 5.9935\n",
      "Function value obtained: -0.7680\n",
      "Current minimum: -0.7680\n",
      "Iteration No: 2 started. Evaluating function at random point.\n",
      "Iteration No: 2 ended. Evaluation done at random point.\n",
      "Time taken: 25.6126\n",
      "Function value obtained: -0.9070\n",
      "Current minimum: -0.9070\n",
      "Iteration No: 3 started. Evaluating function at random point.\n",
      "Iteration No: 3 ended. Evaluation done at random point.\n",
      "Time taken: 6.6283\n",
      "Function value obtained: -0.8965\n",
      "Current minimum: -0.9070\n",
      "Iteration No: 4 started. Evaluating function at random point.\n",
      "Iteration No: 4 ended. Evaluation done at random point.\n",
      "Time taken: 5.6276\n",
      "Function value obtained: -0.8735\n",
      "Current minimum: -0.9070\n",
      "Iteration No: 5 started. Evaluating function at random point.\n",
      "Iteration No: 5 ended. Evaluation done at random point.\n",
      "Time taken: 18.4096\n",
      "Function value obtained: -0.8865\n",
      "Current minimum: -0.9070\n",
      "Iteration No: 6 started. Evaluating function at random point.\n",
      "Iteration No: 6 ended. Evaluation done at random point.\n",
      "Time taken: 4.1020\n",
      "Function value obtained: -0.8880\n",
      "Current minimum: -0.9070\n",
      "Iteration No: 7 started. Evaluating function at random point.\n",
      "Iteration No: 7 ended. Evaluation done at random point.\n",
      "Time taken: 11.7958\n",
      "Function value obtained: -0.8940\n",
      "Current minimum: -0.9070\n",
      "Iteration No: 8 started. Evaluating function at random point.\n",
      "Iteration No: 8 ended. Evaluation done at random point.\n",
      "Time taken: 3.4237\n",
      "Function value obtained: -0.8285\n",
      "Current minimum: -0.9070\n",
      "Iteration No: 9 started. Evaluating function at random point.\n",
      "Iteration No: 9 ended. Evaluation done at random point.\n",
      "Time taken: 23.6455\n",
      "Function value obtained: -0.9060\n",
      "Current minimum: -0.9070\n",
      "Iteration No: 10 started. Evaluating function at random point.\n",
      "Iteration No: 10 ended. Evaluation done at random point.\n",
      "Time taken: 16.7188\n",
      "Function value obtained: -0.8835\n",
      "Current minimum: -0.9070\n",
      "Iteration No: 11 started. Searching for the next optimal point.\n",
      "Iteration No: 11 ended. Search finished for the next optimal point.\n",
      "Time taken: 4.7011\n",
      "Function value obtained: -0.9030\n",
      "Current minimum: -0.9070\n",
      "Iteration No: 12 started. Searching for the next optimal point.\n",
      "Iteration No: 12 ended. Search finished for the next optimal point.\n",
      "Time taken: 16.6141\n",
      "Function value obtained: -0.8260\n",
      "Current minimum: -0.9070\n",
      "Iteration No: 13 started. Searching for the next optimal point.\n",
      "Iteration No: 13 ended. Search finished for the next optimal point.\n",
      "Time taken: 5.5034\n",
      "Function value obtained: -0.9060\n",
      "Current minimum: -0.9070\n",
      "Iteration No: 14 started. Searching for the next optimal point.\n",
      "Iteration No: 14 ended. Search finished for the next optimal point.\n",
      "Time taken: 26.5082\n",
      "Function value obtained: -0.9095\n",
      "Current minimum: -0.9095\n",
      "Iteration No: 15 started. Searching for the next optimal point.\n",
      "Iteration No: 15 ended. Search finished for the next optimal point.\n",
      "Time taken: 24.3362\n",
      "Function value obtained: -0.8995\n",
      "Current minimum: -0.9095\n",
      "{'max_depth': 15, 'n_estimators': 485, 'criterion': 'entropy', 'max_features': 0.7853140676580852}\n"
     ]
    }
   ],
   "source": [
    "from functools import partial\n",
    "from skopt import space\n",
    "from skopt import gp_minimize\n",
    "# Function to minimize. \n",
    "# Should take a single list of parameters\n",
    "# and return the objective value.\n",
    "def optimize(params, param_names, x, y):\n",
    "    params = dict(zip(param_names, params)) # This you cannot use when you tuning multiple params things  \n",
    "    model = ensemble.RandomForestClassifier(**params)\n",
    "    kf = model_selection.StratifiedKFold(n_splits=5)\n",
    "    accuracies = []\n",
    "    for idx in kf.split(X=x, y=y):\n",
    "        train_idx, valid_idx = idx[0], idx[1]\n",
    "        xtrain = x[train_idx]\n",
    "        ytrain = y[train_idx]\n",
    "        \n",
    "        xvalid = x[valid_idx]\n",
    "        yvalid = y[valid_idx]\n",
    "        \n",
    "        model.fit(xtrain, ytrain)\n",
    "        preds = model.predict(xvalid)\n",
    "        fold_acc = metrics.accuracy_score(yvalid, preds)\n",
    "        accuracies.append(fold_acc)\n",
    "        \n",
    "    # We need to return minimize \n",
    "    return -1.0 * np.mean(accuracies)\n",
    "\n",
    "param_space = [\n",
    "    # Order is matter\n",
    "    space.Integer(3, 15, name=\"max_depth\"),\n",
    "    space.Integer(100, 600, name=\"n_estimators\"),\n",
    "    space.Categorical([\"gini\", \"entropy\"], name=\"criterion\"),\n",
    "    space.Real(0.01, 1, prior=\"uniform\", name=\"max_features\")\n",
    "]\n",
    "param_names = [\n",
    "    \"max_depth\",\n",
    "    \"n_estimators\",\n",
    "    \"criterion\",\n",
    "    \"max_features\"\n",
    "]\n",
    "optimization_function = partial(\n",
    "    optimize, \n",
    "    param_names=param_names,\n",
    "    x=X,\n",
    "    y=y\n",
    ")\n",
    "\n",
    "result = gp_minimize(\n",
    "    optimization_function,\n",
    "    dimensions=param_space,\n",
    "    n_calls=15,\n",
    "    n_random_starts=10,\n",
    "    verbose=10,\n",
    ")\n",
    "print(dict(zip(param_names, result.x)))\n"
   ]
  },
  {
   "cell_type": "markdown",
   "id": "be9ba529",
   "metadata": {
    "papermill": {
     "duration": 0.128635,
     "end_time": "2021-09-01T09:56:03.120913",
     "exception": false,
     "start_time": "2021-09-01T09:56:02.992278",
     "status": "completed"
    },
    "tags": []
   },
   "source": [
    "WOW...with using gp_minimize we got improved our score."
   ]
  },
  {
   "cell_type": "markdown",
   "id": "9f47efc9",
   "metadata": {
    "papermill": {
     "duration": 0.096844,
     "end_time": "2021-09-01T09:56:03.315271",
     "exception": false,
     "start_time": "2021-09-01T09:56:03.218427",
     "status": "completed"
    },
    "tags": []
   },
   "source": []
  },
  {
   "cell_type": "markdown",
   "id": "7ef38ba5",
   "metadata": {
    "papermill": {
     "duration": 0.096372,
     "end_time": "2021-09-01T09:56:03.508895",
     "exception": false,
     "start_time": "2021-09-01T09:56:03.412523",
     "status": "completed"
    },
    "tags": []
   },
   "source": []
  },
  {
   "cell_type": "markdown",
   "id": "d47ecd72",
   "metadata": {
    "papermill": {
     "duration": 0.096951,
     "end_time": "2021-09-01T09:56:03.704251",
     "exception": false,
     "start_time": "2021-09-01T09:56:03.607300",
     "status": "completed"
    },
    "tags": []
   },
   "source": [
    "# 5. Hyperopt: Distributed Asynchronous Hyper-parameter Optimization\n"
   ]
  },
  {
   "cell_type": "code",
   "execution_count": 10,
   "id": "c3d68970",
   "metadata": {
    "execution": {
     "iopub.execute_input": "2021-09-01T09:56:03.909485Z",
     "iopub.status.busy": "2021-09-01T09:56:03.908754Z",
     "iopub.status.idle": "2021-09-01T09:59:00.500124Z",
     "shell.execute_reply": "2021-09-01T09:59:00.499613Z",
     "shell.execute_reply.started": "2021-09-01T09:06:50.941361Z"
    },
    "papermill": {
     "duration": 176.698714,
     "end_time": "2021-09-01T09:59:00.500292",
     "exception": false,
     "start_time": "2021-09-01T09:56:03.801578",
     "status": "completed"
    },
    "tags": []
   },
   "outputs": [
    {
     "name": "stdout",
     "output_type": "stream",
     "text": [
      "100%|██████████| 15/15 [02:56<00:00, 11.74s/trial, best loss: -0.908]\n",
      "{'criterion': 1, 'max_depth': 9.0, 'max_features': 0.48578161454504437, 'n_estimators': 385.0}\n"
     ]
    }
   ],
   "source": [
    "from hyperopt import hp, fmin, tpe, Trials\n",
    "from hyperopt.pyll.base import scope\n",
    "from functools import partial\n",
    "from skopt import space\n",
    "from skopt import gp_minimize\n",
    "# Function to minimize. \n",
    "# Should take a single list of parameters\n",
    "# and return the objective value.\n",
    "def optimize(params, x, y):\n",
    "    model = ensemble.RandomForestClassifier(**params)\n",
    "    kf = model_selection.StratifiedKFold(n_splits=5)\n",
    "    accuracies = []\n",
    "    for idx in kf.split(X=x, y=y):\n",
    "        train_idx, valid_idx = idx[0], idx[1]\n",
    "        xtrain = x[train_idx]\n",
    "        ytrain = y[train_idx]\n",
    "        \n",
    "        xvalid = x[valid_idx]\n",
    "        yvalid = y[valid_idx]\n",
    "        \n",
    "        model.fit(xtrain, ytrain)\n",
    "        preds = model.predict(xvalid)\n",
    "        fold_acc = metrics.accuracy_score(yvalid, preds)\n",
    "        accuracies.append(fold_acc)\n",
    "        \n",
    "    # We need to return minimize \n",
    "    return -1.0 * np.mean(accuracies)\n",
    "\n",
    "param_space = {\n",
    "    # Order is matter\n",
    "    \"max_depth\" : scope.int(hp.quniform(\"max_depth\", 3, 15, 1)),\n",
    "    \"n_estimators\" : scope.int(hp.quniform(\"n_estimators\",100, 600, 1)),\n",
    "    \"criterion\" : hp.choice(\"criterion\", [\"gini\", \"entropy\"]),\n",
    "    \"max_features\" : hp.uniform(\"max_features\", 0.01, 1)\n",
    "}\n",
    "\n",
    "optimization_function = partial(\n",
    "    optimize, \n",
    "    x=X,\n",
    "    y=y\n",
    ")\n",
    "\n",
    "trials = Trials()\n",
    "\n",
    "result = fmin(\n",
    "    fn=optimization_function,\n",
    "    space=param_space,\n",
    "    algo=tpe.suggest,\n",
    "    max_evals=15,\n",
    "    trials=trials,\n",
    ")\n",
    "print(result)"
   ]
  },
  {
   "cell_type": "markdown",
   "id": "68936150",
   "metadata": {
    "papermill": {
     "duration": 0.102325,
     "end_time": "2021-09-01T09:59:00.705800",
     "exception": false,
     "start_time": "2021-09-01T09:59:00.603475",
     "status": "completed"
    },
    "tags": []
   },
   "source": [
    "- WOW...with using hyperopt we improved our score futhure more."
   ]
  },
  {
   "cell_type": "markdown",
   "id": "4b1577ee",
   "metadata": {
    "papermill": {
     "duration": 0.105415,
     "end_time": "2021-09-01T09:59:00.918736",
     "exception": false,
     "start_time": "2021-09-01T09:59:00.813321",
     "status": "completed"
    },
    "tags": []
   },
   "source": [
    "# 6. Optuna\n",
    "</br>\n",
    "Take a look : https://optuna.org/"
   ]
  },
  {
   "cell_type": "code",
   "execution_count": 11,
   "id": "0ee1a229",
   "metadata": {
    "execution": {
     "iopub.execute_input": "2021-09-01T09:59:01.139025Z",
     "iopub.status.busy": "2021-09-01T09:59:01.138124Z",
     "iopub.status.idle": "2021-09-01T10:06:50.904098Z",
     "shell.execute_reply": "2021-09-01T10:06:50.904836Z",
     "shell.execute_reply.started": "2021-09-01T09:25:36.018369Z"
    },
    "papermill": {
     "duration": 469.881,
     "end_time": "2021-09-01T10:06:50.905109",
     "exception": false,
     "start_time": "2021-09-01T09:59:01.024109",
     "status": "completed"
    },
    "tags": []
   },
   "outputs": [
    {
     "name": "stderr",
     "output_type": "stream",
     "text": [
      "\u001b[32m[I 2021-09-01 09:59:01,684]\u001b[0m A new study created in memory with name: no-name-a3ea1951-5e66-4884-9549-a0d43a2252e5\u001b[0m\n",
      "\u001b[32m[I 2021-09-01 09:59:22,089]\u001b[0m Trial 0 finished with value: -0.8019999999999999 and parameters: {'criterion': 'entropy', 'n_estimators': 1392, 'max_depth': 3, 'max_features': 0.2574186771130284}. Best is trial 0 with value: -0.8019999999999999.\u001b[0m\n",
      "\u001b[32m[I 2021-09-01 09:59:26,360]\u001b[0m Trial 1 finished with value: -0.8714999999999999 and parameters: {'criterion': 'gini', 'n_estimators': 186, 'max_depth': 5, 'max_features': 0.6416579712277222}. Best is trial 1 with value: -0.8714999999999999.\u001b[0m\n",
      "\u001b[32m[I 2021-09-01 09:59:33,915]\u001b[0m Trial 2 finished with value: -0.884 and parameters: {'criterion': 'gini', 'n_estimators': 294, 'max_depth': 6, 'max_features': 0.6355328535218027}. Best is trial 2 with value: -0.884.\u001b[0m\n",
      "\u001b[32m[I 2021-09-01 09:59:38,210]\u001b[0m Trial 3 finished with value: -0.8560000000000001 and parameters: {'criterion': 'gini', 'n_estimators': 296, 'max_depth': 8, 'max_features': 0.1572087886908504}. Best is trial 2 with value: -0.884.\u001b[0m\n",
      "\u001b[32m[I 2021-09-01 10:00:20,669]\u001b[0m Trial 4 finished with value: -0.8979999999999999 and parameters: {'criterion': 'entropy', 'n_estimators': 1203, 'max_depth': 15, 'max_features': 0.30452099890163054}. Best is trial 4 with value: -0.8979999999999999.\u001b[0m\n",
      "\u001b[32m[I 2021-09-01 10:00:42,324]\u001b[0m Trial 5 finished with value: -0.837 and parameters: {'criterion': 'entropy', 'n_estimators': 1245, 'max_depth': 8, 'max_features': 0.13905974104177965}. Best is trial 4 with value: -0.8979999999999999.\u001b[0m\n",
      "\u001b[32m[I 2021-09-01 10:01:40,252]\u001b[0m Trial 6 finished with value: -0.8855000000000001 and parameters: {'criterion': 'gini', 'n_estimators': 1441, 'max_depth': 7, 'max_features': 0.9623036246705005}. Best is trial 4 with value: -0.8979999999999999.\u001b[0m\n",
      "\u001b[32m[I 2021-09-01 10:01:49,598]\u001b[0m Trial 7 finished with value: -0.764 and parameters: {'criterion': 'entropy', 'n_estimators': 507, 'max_depth': 14, 'max_features': 0.02373682804409364}. Best is trial 4 with value: -0.8979999999999999.\u001b[0m\n",
      "\u001b[32m[I 2021-09-01 10:02:15,530]\u001b[0m Trial 8 finished with value: -0.907 and parameters: {'criterion': 'entropy', 'n_estimators': 532, 'max_depth': 12, 'max_features': 0.6921404353393028}. Best is trial 8 with value: -0.907.\u001b[0m\n",
      "\u001b[32m[I 2021-09-01 10:03:02,864]\u001b[0m Trial 9 finished with value: -0.907 and parameters: {'criterion': 'entropy', 'n_estimators': 1041, 'max_depth': 10, 'max_features': 0.558396260576781}. Best is trial 8 with value: -0.907.\u001b[0m\n",
      "\u001b[32m[I 2021-09-01 10:03:43,823]\u001b[0m Trial 10 finished with value: -0.9075000000000001 and parameters: {'criterion': 'entropy', 'n_estimators': 717, 'max_depth': 11, 'max_features': 0.8832667647545552}. Best is trial 10 with value: -0.9075000000000001.\u001b[0m\n",
      "\u001b[32m[I 2021-09-01 10:04:25,492]\u001b[0m Trial 11 finished with value: -0.9055 and parameters: {'criterion': 'entropy', 'n_estimators': 702, 'max_depth': 12, 'max_features': 0.9046408912738702}. Best is trial 10 with value: -0.9075000000000001.\u001b[0m\n",
      "\u001b[32m[I 2021-09-01 10:05:06,663]\u001b[0m Trial 12 finished with value: -0.9099999999999999 and parameters: {'criterion': 'entropy', 'n_estimators': 781, 'max_depth': 11, 'max_features': 0.78082594948993}. Best is trial 12 with value: -0.9099999999999999.\u001b[0m\n",
      "\u001b[32m[I 2021-09-01 10:05:55,687]\u001b[0m Trial 13 finished with value: -0.908 and parameters: {'criterion': 'entropy', 'n_estimators': 885, 'max_depth': 11, 'max_features': 0.8162462474994976}. Best is trial 12 with value: -0.9099999999999999.\u001b[0m\n",
      "\u001b[32m[I 2021-09-01 10:06:50,791]\u001b[0m Trial 14 finished with value: -0.908 and parameters: {'criterion': 'entropy', 'n_estimators': 1000, 'max_depth': 13, 'max_features': 0.8248762377843399}. Best is trial 12 with value: -0.9099999999999999.\u001b[0m\n"
     ]
    }
   ],
   "source": [
    "import optuna\n",
    "from functools import partial\n",
    "from skopt import space\n",
    "from skopt import gp_minimize\n",
    "from hyperopt import Trials\n",
    "\n",
    "# Function to minimize. \n",
    "# Should take a single list of parameters\n",
    "# and return the objective value.\n",
    "def optimize(trails, x, y):\n",
    "    criterion = trails.suggest_categorical(\"criterion\", [\"gini\", \"entropy\"])\n",
    "    n_estimators = trails.suggest_int(\"n_estimators\", 100, 1500)\n",
    "    max_depth = trails.suggest_int(\"max_depth\", 3, 15)\n",
    "    max_features = trails.suggest_uniform(\"max_features\", 0.01, 1.0)\n",
    "    \n",
    "    model = ensemble.RandomForestClassifier(\n",
    "        n_estimators=n_estimators,\n",
    "        max_depth=max_depth,\n",
    "        max_features=max_features,\n",
    "        criterion=criterion\n",
    "    )\n",
    "    kf = model_selection.StratifiedKFold(n_splits=5)\n",
    "    accuracies = []\n",
    "    for idx in kf.split(X=x, y=y):\n",
    "        train_idx, valid_idx = idx[0], idx[1]\n",
    "        xtrain = x[train_idx]\n",
    "        ytrain = y[train_idx]\n",
    "        \n",
    "        xvalid = x[valid_idx]\n",
    "        yvalid = y[valid_idx]\n",
    "        \n",
    "        model.fit(xtrain, ytrain)\n",
    "        preds = model.predict(xvalid)\n",
    "        fold_acc = metrics.accuracy_score(yvalid, preds)\n",
    "        accuracies.append(fold_acc)\n",
    "        \n",
    "    # We need to return minimize \n",
    "    return -1.0 * np.mean(accuracies)\n",
    "\n",
    "trails = Trials()\n",
    "optimization_function = partial(optimize, x=X, y=y)\n",
    "\n",
    "study = optuna.create_study(direction=\"minimize\")\n",
    "\n",
    "study.optimize(optimization_function, n_trials=15)"
   ]
  },
  {
   "cell_type": "markdown",
   "id": "f3e6fa2f",
   "metadata": {
    "papermill": {
     "duration": 0.106387,
     "end_time": "2021-09-01T10:06:51.119989",
     "exception": false,
     "start_time": "2021-09-01T10:06:51.013602",
     "status": "completed"
    },
    "tags": []
   },
   "source": [
    "Wow... again we improved our accuracy.\n",
    "So, for this situation the Optuna scored high.\n",
    "0.9050"
   ]
  },
  {
   "cell_type": "markdown",
   "id": "950db4d6",
   "metadata": {
    "papermill": {
     "duration": 0.105148,
     "end_time": "2021-09-01T10:06:51.331361",
     "exception": false,
     "start_time": "2021-09-01T10:06:51.226213",
     "status": "completed"
    },
    "tags": []
   },
   "source": [
    "#################################################</br>\n",
    "I like to try to tune my hyper parameters manually  first and then choose a range of values and then \n",
    "throw in some kind of Optimization Algorithm.</br>\n",
    "##################################################"
   ]
  },
  {
   "cell_type": "raw",
   "id": "dbc8f26a",
   "metadata": {
    "papermill": {
     "duration": 0.105212,
     "end_time": "2021-09-01T10:06:51.542116",
     "exception": false,
     "start_time": "2021-09-01T10:06:51.436904",
     "status": "completed"
    },
    "tags": []
   },
   "source": []
  }
 ],
 "metadata": {
  "kernelspec": {
   "display_name": "Python 3",
   "language": "python",
   "name": "python3"
  },
  "language_info": {
   "codemirror_mode": {
    "name": "ipython",
    "version": 3
   },
   "file_extension": ".py",
   "mimetype": "text/x-python",
   "name": "python",
   "nbconvert_exporter": "python",
   "pygments_lexer": "ipython3",
   "version": "3.7.10"
  },
  "papermill": {
   "default_parameters": {},
   "duration": 1308.348642,
   "end_time": "2021-09-01T10:06:53.752105",
   "environment_variables": {},
   "exception": null,
   "input_path": "__notebook__.ipynb",
   "output_path": "__notebook__.ipynb",
   "parameters": {},
   "start_time": "2021-09-01T09:45:05.403463",
   "version": "2.3.3"
  }
 },
 "nbformat": 4,
 "nbformat_minor": 5
}
